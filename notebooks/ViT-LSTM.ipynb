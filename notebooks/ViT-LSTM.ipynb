{
  "cells": [
    {
      "cell_type": "code",
      "execution_count": null,
      "metadata": {
        "colab": {
          "base_uri": "https://localhost:8080/"
        },
        "id": "uL77oeyIz25f",
        "outputId": "6f91cbed-ef77-4a15-bf54-c207691313c9"
      },
      "outputs": [
        {
          "output_type": "stream",
          "name": "stdout",
          "text": [
            "Mounted at /content/drive\n"
          ]
        }
      ],
      "source": [
        "from google.colab import drive\n",
        "drive.mount('/content/drive')"
      ]
    },
    {
      "cell_type": "code",
      "execution_count": null,
      "metadata": {
        "colab": {
          "base_uri": "https://localhost:8080/"
        },
        "id": "jgGjZcqg0oYm",
        "outputId": "22b41c0a-7808-4ded-c058-920951080e6b"
      },
      "outputs": [
        {
          "output_type": "stream",
          "name": "stdout",
          "text": [
            "Collecting torchtext\n",
            "  Downloading torchtext-0.18.0-cp310-cp310-manylinux1_x86_64.whl.metadata (7.9 kB)\n",
            "Collecting sentence-transformers\n",
            "  Downloading sentence_transformers-3.2.1-py3-none-any.whl.metadata (10 kB)\n",
            "Requirement already satisfied: transformers in /usr/local/lib/python3.10/dist-packages (4.44.2)\n",
            "Requirement already satisfied: tqdm in /usr/local/lib/python3.10/dist-packages (from torchtext) (4.66.5)\n",
            "Requirement already satisfied: requests in /usr/local/lib/python3.10/dist-packages (from torchtext) (2.32.3)\n",
            "Requirement already satisfied: torch>=2.3.0 in /usr/local/lib/python3.10/dist-packages (from torchtext) (2.5.0+cu121)\n",
            "Requirement already satisfied: numpy in /usr/local/lib/python3.10/dist-packages (from torchtext) (1.26.4)\n",
            "Requirement already satisfied: scikit-learn in /usr/local/lib/python3.10/dist-packages (from sentence-transformers) (1.5.2)\n",
            "Requirement already satisfied: scipy in /usr/local/lib/python3.10/dist-packages (from sentence-transformers) (1.13.1)\n",
            "Requirement already satisfied: huggingface-hub>=0.20.0 in /usr/local/lib/python3.10/dist-packages (from sentence-transformers) (0.24.7)\n",
            "Requirement already satisfied: Pillow in /usr/local/lib/python3.10/dist-packages (from sentence-transformers) (10.4.0)\n",
            "Requirement already satisfied: filelock in /usr/local/lib/python3.10/dist-packages (from transformers) (3.16.1)\n",
            "Requirement already satisfied: packaging>=20.0 in /usr/local/lib/python3.10/dist-packages (from transformers) (24.1)\n",
            "Requirement already satisfied: pyyaml>=5.1 in /usr/local/lib/python3.10/dist-packages (from transformers) (6.0.2)\n",
            "Requirement already satisfied: regex!=2019.12.17 in /usr/local/lib/python3.10/dist-packages (from transformers) (2024.9.11)\n",
            "Requirement already satisfied: safetensors>=0.4.1 in /usr/local/lib/python3.10/dist-packages (from transformers) (0.4.5)\n",
            "Requirement already satisfied: tokenizers<0.20,>=0.19 in /usr/local/lib/python3.10/dist-packages (from transformers) (0.19.1)\n",
            "Requirement already satisfied: fsspec>=2023.5.0 in /usr/local/lib/python3.10/dist-packages (from huggingface-hub>=0.20.0->sentence-transformers) (2024.6.1)\n",
            "Requirement already satisfied: typing-extensions>=3.7.4.3 in /usr/local/lib/python3.10/dist-packages (from huggingface-hub>=0.20.0->sentence-transformers) (4.12.2)\n",
            "Requirement already satisfied: networkx in /usr/local/lib/python3.10/dist-packages (from torch>=2.3.0->torchtext) (3.4.2)\n",
            "Requirement already satisfied: jinja2 in /usr/local/lib/python3.10/dist-packages (from torch>=2.3.0->torchtext) (3.1.4)\n",
            "Requirement already satisfied: sympy==1.13.1 in /usr/local/lib/python3.10/dist-packages (from torch>=2.3.0->torchtext) (1.13.1)\n",
            "Requirement already satisfied: mpmath<1.4,>=1.1.0 in /usr/local/lib/python3.10/dist-packages (from sympy==1.13.1->torch>=2.3.0->torchtext) (1.3.0)\n",
            "Requirement already satisfied: charset-normalizer<4,>=2 in /usr/local/lib/python3.10/dist-packages (from requests->torchtext) (3.4.0)\n",
            "Requirement already satisfied: idna<4,>=2.5 in /usr/local/lib/python3.10/dist-packages (from requests->torchtext) (3.10)\n",
            "Requirement already satisfied: urllib3<3,>=1.21.1 in /usr/local/lib/python3.10/dist-packages (from requests->torchtext) (2.2.3)\n",
            "Requirement already satisfied: certifi>=2017.4.17 in /usr/local/lib/python3.10/dist-packages (from requests->torchtext) (2024.8.30)\n",
            "Requirement already satisfied: joblib>=1.2.0 in /usr/local/lib/python3.10/dist-packages (from scikit-learn->sentence-transformers) (1.4.2)\n",
            "Requirement already satisfied: threadpoolctl>=3.1.0 in /usr/local/lib/python3.10/dist-packages (from scikit-learn->sentence-transformers) (3.5.0)\n",
            "Requirement already satisfied: MarkupSafe>=2.0 in /usr/local/lib/python3.10/dist-packages (from jinja2->torch>=2.3.0->torchtext) (3.0.2)\n",
            "Downloading torchtext-0.18.0-cp310-cp310-manylinux1_x86_64.whl (2.0 MB)\n",
            "\u001b[2K   \u001b[90m━━━━━━━━━━━━━━━━━━━━━━━━━━━━━━━━━━━━━━━━\u001b[0m \u001b[32m2.0/2.0 MB\u001b[0m \u001b[31m46.1 MB/s\u001b[0m eta \u001b[36m0:00:00\u001b[0m\n",
            "\u001b[?25hDownloading sentence_transformers-3.2.1-py3-none-any.whl (255 kB)\n",
            "\u001b[2K   \u001b[90m━━━━━━━━━━━━━━━━━━━━━━━━━━━━━━━━━━━━━━━━\u001b[0m \u001b[32m255.8/255.8 kB\u001b[0m \u001b[31m23.3 MB/s\u001b[0m eta \u001b[36m0:00:00\u001b[0m\n",
            "\u001b[?25hInstalling collected packages: torchtext, sentence-transformers\n",
            "Successfully installed sentence-transformers-3.2.1 torchtext-0.18.0\n"
          ]
        }
      ],
      "source": [
        "!pip install torchtext sentence-transformers transformers"
      ]
    },
    {
      "cell_type": "code",
      "execution_count": null,
      "metadata": {
        "colab": {
          "base_uri": "https://localhost:8080/"
        },
        "id": "UUKomh96YrkY",
        "outputId": "a1a5a545-77d2-4e0c-c2c9-d37f989cd959"
      },
      "outputs": [
        {
          "output_type": "stream",
          "name": "stdout",
          "text": [
            "Requirement already satisfied: tensorflow in /usr/local/lib/python3.10/dist-packages (2.17.0)\n",
            "Collecting tensorflow\n",
            "  Downloading tensorflow-2.18.0-cp310-cp310-manylinux_2_17_x86_64.manylinux2014_x86_64.whl.metadata (4.1 kB)\n",
            "Requirement already satisfied: absl-py>=1.0.0 in /usr/local/lib/python3.10/dist-packages (from tensorflow) (1.4.0)\n",
            "Requirement already satisfied: astunparse>=1.6.0 in /usr/local/lib/python3.10/dist-packages (from tensorflow) (1.6.3)\n",
            "Requirement already satisfied: flatbuffers>=24.3.25 in /usr/local/lib/python3.10/dist-packages (from tensorflow) (24.3.25)\n",
            "Requirement already satisfied: gast!=0.5.0,!=0.5.1,!=0.5.2,>=0.2.1 in /usr/local/lib/python3.10/dist-packages (from tensorflow) (0.6.0)\n",
            "Requirement already satisfied: google-pasta>=0.1.1 in /usr/local/lib/python3.10/dist-packages (from tensorflow) (0.2.0)\n",
            "Requirement already satisfied: libclang>=13.0.0 in /usr/local/lib/python3.10/dist-packages (from tensorflow) (18.1.1)\n",
            "Requirement already satisfied: opt-einsum>=2.3.2 in /usr/local/lib/python3.10/dist-packages (from tensorflow) (3.4.0)\n",
            "Requirement already satisfied: packaging in /usr/local/lib/python3.10/dist-packages (from tensorflow) (24.1)\n",
            "Requirement already satisfied: protobuf!=4.21.0,!=4.21.1,!=4.21.2,!=4.21.3,!=4.21.4,!=4.21.5,<6.0.0dev,>=3.20.3 in /usr/local/lib/python3.10/dist-packages (from tensorflow) (3.20.3)\n",
            "Requirement already satisfied: requests<3,>=2.21.0 in /usr/local/lib/python3.10/dist-packages (from tensorflow) (2.32.3)\n",
            "Requirement already satisfied: setuptools in /usr/local/lib/python3.10/dist-packages (from tensorflow) (75.1.0)\n",
            "Requirement already satisfied: six>=1.12.0 in /usr/local/lib/python3.10/dist-packages (from tensorflow) (1.16.0)\n",
            "Requirement already satisfied: termcolor>=1.1.0 in /usr/local/lib/python3.10/dist-packages (from tensorflow) (2.5.0)\n",
            "Requirement already satisfied: typing-extensions>=3.6.6 in /usr/local/lib/python3.10/dist-packages (from tensorflow) (4.12.2)\n",
            "Requirement already satisfied: wrapt>=1.11.0 in /usr/local/lib/python3.10/dist-packages (from tensorflow) (1.16.0)\n",
            "Requirement already satisfied: grpcio<2.0,>=1.24.3 in /usr/local/lib/python3.10/dist-packages (from tensorflow) (1.64.1)\n",
            "Collecting tensorboard<2.19,>=2.18 (from tensorflow)\n",
            "  Downloading tensorboard-2.18.0-py3-none-any.whl.metadata (1.6 kB)\n",
            "Collecting keras>=3.5.0 (from tensorflow)\n",
            "  Downloading keras-3.6.0-py3-none-any.whl.metadata (5.8 kB)\n",
            "Requirement already satisfied: numpy<2.1.0,>=1.26.0 in /usr/local/lib/python3.10/dist-packages (from tensorflow) (1.26.4)\n",
            "Requirement already satisfied: h5py>=3.11.0 in /usr/local/lib/python3.10/dist-packages (from tensorflow) (3.11.0)\n",
            "Requirement already satisfied: ml-dtypes<0.5.0,>=0.4.0 in /usr/local/lib/python3.10/dist-packages (from tensorflow) (0.4.1)\n",
            "Requirement already satisfied: tensorflow-io-gcs-filesystem>=0.23.1 in /usr/local/lib/python3.10/dist-packages (from tensorflow) (0.37.1)\n",
            "Requirement already satisfied: wheel<1.0,>=0.23.0 in /usr/local/lib/python3.10/dist-packages (from astunparse>=1.6.0->tensorflow) (0.44.0)\n",
            "Requirement already satisfied: rich in /usr/local/lib/python3.10/dist-packages (from keras>=3.5.0->tensorflow) (13.9.3)\n",
            "Requirement already satisfied: namex in /usr/local/lib/python3.10/dist-packages (from keras>=3.5.0->tensorflow) (0.0.8)\n",
            "Requirement already satisfied: optree in /usr/local/lib/python3.10/dist-packages (from keras>=3.5.0->tensorflow) (0.13.0)\n",
            "Requirement already satisfied: charset-normalizer<4,>=2 in /usr/local/lib/python3.10/dist-packages (from requests<3,>=2.21.0->tensorflow) (3.4.0)\n",
            "Requirement already satisfied: idna<4,>=2.5 in /usr/local/lib/python3.10/dist-packages (from requests<3,>=2.21.0->tensorflow) (3.10)\n",
            "Requirement already satisfied: urllib3<3,>=1.21.1 in /usr/local/lib/python3.10/dist-packages (from requests<3,>=2.21.0->tensorflow) (2.2.3)\n",
            "Requirement already satisfied: certifi>=2017.4.17 in /usr/local/lib/python3.10/dist-packages (from requests<3,>=2.21.0->tensorflow) (2024.8.30)\n",
            "Requirement already satisfied: markdown>=2.6.8 in /usr/local/lib/python3.10/dist-packages (from tensorboard<2.19,>=2.18->tensorflow) (3.7)\n",
            "Requirement already satisfied: tensorboard-data-server<0.8.0,>=0.7.0 in /usr/local/lib/python3.10/dist-packages (from tensorboard<2.19,>=2.18->tensorflow) (0.7.2)\n",
            "Requirement already satisfied: werkzeug>=1.0.1 in /usr/local/lib/python3.10/dist-packages (from tensorboard<2.19,>=2.18->tensorflow) (3.0.5)\n",
            "Requirement already satisfied: MarkupSafe>=2.1.1 in /usr/local/lib/python3.10/dist-packages (from werkzeug>=1.0.1->tensorboard<2.19,>=2.18->tensorflow) (3.0.2)\n",
            "Requirement already satisfied: markdown-it-py>=2.2.0 in /usr/local/lib/python3.10/dist-packages (from rich->keras>=3.5.0->tensorflow) (3.0.0)\n",
            "Requirement already satisfied: pygments<3.0.0,>=2.13.0 in /usr/local/lib/python3.10/dist-packages (from rich->keras>=3.5.0->tensorflow) (2.18.0)\n",
            "Requirement already satisfied: mdurl~=0.1 in /usr/local/lib/python3.10/dist-packages (from markdown-it-py>=2.2.0->rich->keras>=3.5.0->tensorflow) (0.1.2)\n",
            "Downloading tensorflow-2.18.0-cp310-cp310-manylinux_2_17_x86_64.manylinux2014_x86_64.whl (615.3 MB)\n",
            "\u001b[2K   \u001b[90m━━━━━━━━━━━━━━━━━━━━━━━━━━━━━━━━━━━━━━━━\u001b[0m \u001b[32m615.3/615.3 MB\u001b[0m \u001b[31m2.9 MB/s\u001b[0m eta \u001b[36m0:00:00\u001b[0m\n",
            "\u001b[?25hDownloading keras-3.6.0-py3-none-any.whl (1.2 MB)\n",
            "\u001b[2K   \u001b[90m━━━━━━━━━━━━━━━━━━━━━━━━━━━━━━━━━━━━━━━━\u001b[0m \u001b[32m1.2/1.2 MB\u001b[0m \u001b[31m39.1 MB/s\u001b[0m eta \u001b[36m0:00:00\u001b[0m\n",
            "\u001b[?25hDownloading tensorboard-2.18.0-py3-none-any.whl (5.5 MB)\n",
            "\u001b[2K   \u001b[90m━━━━━━━━━━━━━━━━━━━━━━━━━━━━━━━━━━━━━━━━\u001b[0m \u001b[32m5.5/5.5 MB\u001b[0m \u001b[31m43.5 MB/s\u001b[0m eta \u001b[36m0:00:00\u001b[0m\n",
            "\u001b[?25hInstalling collected packages: tensorboard, keras, tensorflow\n",
            "  Attempting uninstall: tensorboard\n",
            "    Found existing installation: tensorboard 2.17.0\n",
            "    Uninstalling tensorboard-2.17.0:\n",
            "      Successfully uninstalled tensorboard-2.17.0\n",
            "  Attempting uninstall: keras\n",
            "    Found existing installation: keras 3.4.1\n",
            "    Uninstalling keras-3.4.1:\n",
            "      Successfully uninstalled keras-3.4.1\n",
            "  Attempting uninstall: tensorflow\n",
            "    Found existing installation: tensorflow 2.17.0\n",
            "    Uninstalling tensorflow-2.17.0:\n",
            "      Successfully uninstalled tensorflow-2.17.0\n",
            "\u001b[31mERROR: pip's dependency resolver does not currently take into account all the packages that are installed. This behaviour is the source of the following dependency conflicts.\n",
            "tf-keras 2.17.0 requires tensorflow<2.18,>=2.17, but you have tensorflow 2.18.0 which is incompatible.\u001b[0m\u001b[31m\n",
            "\u001b[0mSuccessfully installed keras-3.6.0 tensorboard-2.18.0 tensorflow-2.18.0\n"
          ]
        }
      ],
      "source": [
        "!pip install --upgrade tensorflow"
      ]
    },
    {
      "cell_type": "code",
      "execution_count": null,
      "metadata": {
        "id": "ahm0YtTHXcVt"
      },
      "outputs": [],
      "source": [
        "import torch\n",
        "import torch.nn as nn\n",
        "import torch.optim as optim\n",
        "from torch.utils.data import Dataset, DataLoader\n",
        "from transformers import ViTFeatureExtractor, ViTModel\n",
        "from sentence_transformers import SentenceTransformer\n",
        "from PIL import Image\n",
        "import pandas as pd\n",
        "import numpy as np\n",
        "from sklearn.model_selection import train_test_split\n",
        "import os\n",
        "import nltk\n",
        "from nltk.translate.bleu_score import sentence_bleu\n",
        "import os\n",
        "import nltk\n",
        "from nltk.translate.bleu_score import sentence_bleu\n",
        "\n",
        "import pickle\n",
        "from tqdm import tqdm\n",
        "import h5py"
      ]
    },
    {
      "cell_type": "markdown",
      "source": [],
      "metadata": {
        "id": "Qj1BXPFQy6Xp"
      }
    },
    {
      "cell_type": "code",
      "execution_count": null,
      "metadata": {
        "colab": {
          "base_uri": "https://localhost:8080/"
        },
        "id": "SdS9UUN5Xx6M",
        "outputId": "4dc7d73d-6849-4c07-ca3f-02a829bf35b1"
      },
      "outputs": [
        {
          "output_type": "stream",
          "name": "stdout",
          "text": [
            "Using device: cuda\n"
          ]
        }
      ],
      "source": [
        "EMBED_SIZE = 768  # ViT has 12 layers\n",
        "HIDDEN_SIZE = 512\n",
        "BATCH_SIZE = 32\n",
        "EPOCHS = 10\n",
        "LEARNING_RATE = 0.001\n",
        "\n",
        "    # Device configuration\n",
        "device = torch.device('cuda' if torch.cuda.is_available() else 'cpu')\n",
        "print(f\"Using device: {device}\")\n"
      ]
    },
    {
      "cell_type": "code",
      "execution_count": null,
      "metadata": {
        "id": "_58yGRQyb0_F"
      },
      "outputs": [],
      "source": [
        "def extract_vit_features(image, feature_extractor, vit_model):\n",
        "    \"\"\"Extract features from ViT\"\"\"\n",
        "    with torch.no_grad():\n",
        "        inputs = feature_extractor(images=image, return_tensors=\"pt\")\n",
        "        outputs = vit_model(**inputs)\n",
        "        features = outputs.last_hidden_state[:, 0, :]\n",
        "        print(f\"ViT feature shape: {features.shape}\")\n",
        "        return features"
      ]
    },
    {
      "cell_type": "code",
      "source": [],
      "metadata": {
        "id": "CoOsC2gNy5vG"
      },
      "execution_count": null,
      "outputs": []
    },
    {
      "cell_type": "code",
      "execution_count": null,
      "metadata": {
        "id": "46b08OSQXfx1"
      },
      "outputs": [],
      "source": [
        "class DataPreprocessor:\n",
        "    def __init__(self, image_dir, captions_file, feature_extractor, max_len=50, cache_dir='cached_data'):\n",
        "        self.image_dir = image_dir\n",
        "        self.captions_file = captions_file  # Added this line\n",
        "        self.max_len = max_len\n",
        "        self.cache_dir = cache_dir\n",
        "        self.feature_extractor = feature_extractor\n",
        "        self.vit_model = None\n",
        "\n",
        "        # Create cache directory\n",
        "        os.makedirs(cache_dir, exist_ok=True)\n",
        "\n",
        "        # Cache file paths\n",
        "        self.vocab_cache = os.path.join(cache_dir, 'vocabulary.pkl')\n",
        "        self.train_cache = os.path.join(cache_dir, 'train_data.pkl')\n",
        "        self.test_cache = os.path.join(cache_dir, 'test_data.pkl')\n",
        "\n",
        "        # Initialize ViT model (do it once)\n",
        "        self.device = torch.device('cuda' if torch.cuda.is_available() else 'cpu')\n",
        "        print(f\"Using device: {self.device}\")\n",
        "\n",
        "        print(\"Loading ViT model...\")\n",
        "        self.vit_model = ViTModel.from_pretrained('google/vit-base-patch16-224').to(self.device)\n",
        "        self.vit_model.eval()\n",
        "\n",
        "    def extract_features(self, image_path):\n",
        "        try:\n",
        "            image = Image.open(image_path).convert('RGB')\n",
        "\n",
        "            with torch.no_grad():\n",
        "                inputs = self.feature_extractor(images=image, return_tensors=\"pt\")\n",
        "                inputs = {k: v.to(self.device) for k, v in inputs.items()}\n",
        "                outputs = self.vit_model(**inputs)\n",
        "                features = outputs.last_hidden_state[:, 0, :].cpu()\n",
        "                return features.squeeze(0)\n",
        "        except Exception as e:\n",
        "            print(f\"Error processing {image_path}: {str(e)}\")\n",
        "            return torch.zeros(768)\n",
        "\n",
        "    def process_data(self):\n",
        "        if (os.path.exists(self.train_cache) and\n",
        "            os.path.exists(self.test_cache) and\n",
        "            os.path.exists(self.vocab_cache)):\n",
        "            print(\"Loading cached data...\")\n",
        "            return self.load_cached_data()\n",
        "\n",
        "        print(\"Processing data from scratch...\")\n",
        "        return self.create_and_cache_data()\n",
        "\n",
        "    def create_and_cache_data(self):\n",
        "        print(\"Reading captions file...\")\n",
        "        img_captions = {}\n",
        "        all_captions = []\n",
        "\n",
        "        # Read and process captions\n",
        "        with open(self.captions_file, 'r', encoding='utf-8') as f:\n",
        "            lines = f.readlines()[1:]  # Skip header\n",
        "            for line in tqdm(lines, desc=\"Reading captions\"):\n",
        "                parts = line.strip().split(',', 1)\n",
        "                if len(parts) == 2:\n",
        "                    img_name = parts[0].strip()\n",
        "                    caption = parts[1].strip().strip('\"\\'')\n",
        "\n",
        "                    if caption:\n",
        "                        if img_name not in img_captions:\n",
        "                            img_captions[img_name] = []\n",
        "                        img_captions[img_name].append(caption)\n",
        "                        all_captions.append(caption)\n",
        "\n",
        "        # Build vocabulary\n",
        "        word2idx, idx2word = self.build_vocabulary(all_captions)\n",
        "\n",
        "        # Process all images and captions\n",
        "        print(\"\\nProcessing images and creating batches...\")\n",
        "        features_list = []\n",
        "        captions_list = []\n",
        "\n",
        "        for img_name in tqdm(img_captions.keys(), desc=\"Processing images\"):\n",
        "            image_path = os.path.join(self.image_dir, img_name)\n",
        "            if os.path.exists(image_path):\n",
        "                features = self.extract_features(image_path)\n",
        "\n",
        "                for caption in img_captions[img_name]:\n",
        "                    features_list.append(features)\n",
        "\n",
        "                    # Process caption\n",
        "                    words = caption.lower().split()\n",
        "                    caption_indices = [word2idx.get(word, word2idx['<UNK>']) for word in words]\n",
        "                    caption_indices = [word2idx['<START>']] + caption_indices + [word2idx['<END>']]\n",
        "\n",
        "                    # Pad sequence\n",
        "                    if len(caption_indices) < self.max_len:\n",
        "                        caption_indices += [word2idx['<PAD>']] * (self.max_len - len(caption_indices))\n",
        "                    else:\n",
        "                        caption_indices = caption_indices[:self.max_len]\n",
        "\n",
        "                    captions_list.append(caption_indices)\n",
        "            else:\n",
        "                print(f\"Warning: Image not found: {image_path}\")\n",
        "\n",
        "        # Convert to tensors\n",
        "        print(\"\\nConverting to tensors...\")\n",
        "        features_tensor = torch.stack(features_list)\n",
        "        captions_tensor = torch.tensor(captions_list)\n",
        "\n",
        "        # Split into train and test\n",
        "        print(\"Splitting into train and test sets...\")\n",
        "        indices = torch.randperm(len(features_tensor))\n",
        "        train_size = int(0.8 * len(indices))\n",
        "\n",
        "        train_indices = indices[:train_size]\n",
        "        test_indices = indices[train_size:]\n",
        "\n",
        "        train_data = (features_tensor[train_indices], captions_tensor[train_indices])\n",
        "        test_data = (features_tensor[test_indices], captions_tensor[test_indices])\n",
        "\n",
        "        # Cache the processed data\n",
        "        print(\"Caching processed data...\")\n",
        "        with open(self.train_cache, 'wb') as f:\n",
        "            pickle.dump(train_data, f)\n",
        "        with open(self.test_cache, 'wb') as f:\n",
        "            pickle.dump(test_data, f)\n",
        "\n",
        "        print(f\"\\nProcessing completed!\")\n",
        "        print(f\"Train set size: {len(train_indices)}\")\n",
        "        print(f\"Test set size: {len(test_indices)}\")\n",
        "\n",
        "        return (word2idx, idx2word), train_data, test_data\n",
        "    def build_vocabulary(self, captions):\n",
        "        print(\"Building vocabulary...\")\n",
        "        word_freq = {}\n",
        "\n",
        "        for caption in captions:\n",
        "            words = caption.lower().split()\n",
        "            for word in words:\n",
        "                word_freq[word] = word_freq.get(word, 0) + 1\n",
        "\n",
        "        word2idx = {'<PAD>': 0, '<START>': 1, '<END>': 2, '<UNK>': 3}\n",
        "        for word, freq in sorted(word_freq.items(), key=lambda x: x[1], reverse=True):\n",
        "            if len(word2idx) < 10000:\n",
        "                word2idx[word] = len(word2idx)\n",
        "\n",
        "        idx2word = {v: k for k, v in word2idx.items()}\n",
        "\n",
        "        # Cache vocabulary\n",
        "        with open(self.vocab_cache, 'wb') as f:\n",
        "            pickle.dump((word2idx, idx2word), f)\n",
        "\n",
        "        print(f\"Vocabulary size: {len(word2idx)}\")\n",
        "        return word2idx, idx2word\n",
        "    def load_cached_data(self):\n",
        "        print(\"Loading vocabulary...\")\n",
        "        with open(self.vocab_cache, 'rb') as f:\n",
        "            vocab = pickle.load(f)\n",
        "\n",
        "        print(\"Loading train data...\")\n",
        "        with open(self.train_cache, 'rb') as f:\n",
        "            train_data = pickle.load(f)\n",
        "\n",
        "        print(\"Loading test data...\")\n",
        "        with open(self.test_cache, 'rb') as f:\n",
        "            test_data = pickle.load(f)\n",
        "\n",
        "        print(f\"Train set size: {len(train_data[0])}\")\n",
        "        print(f\"Test set size: {len(test_data[0])}\")\n",
        "\n",
        "        return vocab, train_data, test_data"
      ]
    },
    {
      "cell_type": "code",
      "execution_count": null,
      "metadata": {
        "colab": {
          "base_uri": "https://localhost:8080/",
          "height": 602
        },
        "id": "ZHwI7ZugXvUJ",
        "outputId": "ee5e4ac4-8643-447f-dcf3-54263186804f"
      },
      "outputs": [
        {
          "output_type": "stream",
          "name": "stdout",
          "text": [
            "Initializing ViT feature extractor...\n",
            "Using device: cuda\n",
            "Loading ViT model...\n"
          ]
        },
        {
          "output_type": "stream",
          "name": "stderr",
          "text": [
            "Some weights of ViTModel were not initialized from the model checkpoint at google/vit-base-patch16-224 and are newly initialized: ['vit.pooler.dense.bias', 'vit.pooler.dense.weight']\n",
            "You should probably TRAIN this model on a down-stream task to be able to use it for predictions and inference.\n"
          ]
        },
        {
          "output_type": "stream",
          "name": "stdout",
          "text": [
            "Processing data from scratch...\n",
            "Reading captions file...\n"
          ]
        },
        {
          "output_type": "stream",
          "name": "stderr",
          "text": [
            "Reading captions: 100%|██████████| 158915/158915 [00:00<00:00, 751378.19it/s]\n"
          ]
        },
        {
          "output_type": "stream",
          "name": "stdout",
          "text": [
            "Building vocabulary...\n",
            "Vocabulary size: 10000\n",
            "\n",
            "Processing images and creating batches...\n"
          ]
        },
        {
          "output_type": "stream",
          "name": "stderr",
          "text": [
            "Processing images:   3%|▎         | 918/31783 [03:53<2:11:00,  3.93it/s]\n"
          ]
        },
        {
          "output_type": "error",
          "ename": "KeyboardInterrupt",
          "evalue": "",
          "traceback": [
            "\u001b[0;31m---------------------------------------------------------------------------\u001b[0m",
            "\u001b[0;31mKeyboardInterrupt\u001b[0m                         Traceback (most recent call last)",
            "\u001b[0;32m<ipython-input-9-3f9f825e03e4>\u001b[0m in \u001b[0;36m<cell line: 13>\u001b[0;34m()\u001b[0m\n\u001b[1;32m     11\u001b[0m         \u001b[0mfeature_extractor\u001b[0m\u001b[0;34m=\u001b[0m\u001b[0mfeature_extractor\u001b[0m\u001b[0;34m\u001b[0m\u001b[0;34m\u001b[0m\u001b[0m\n\u001b[1;32m     12\u001b[0m     )\n\u001b[0;32m---> 13\u001b[0;31m \u001b[0;34m(\u001b[0m\u001b[0mword2idx\u001b[0m\u001b[0;34m,\u001b[0m \u001b[0midx2word\u001b[0m\u001b[0;34m)\u001b[0m\u001b[0;34m,\u001b[0m \u001b[0;34m(\u001b[0m\u001b[0mtrain_features\u001b[0m\u001b[0;34m,\u001b[0m \u001b[0mtrain_captions\u001b[0m\u001b[0;34m)\u001b[0m\u001b[0;34m,\u001b[0m \u001b[0;34m(\u001b[0m\u001b[0mtest_features\u001b[0m\u001b[0;34m,\u001b[0m \u001b[0mtest_captions\u001b[0m\u001b[0;34m)\u001b[0m \u001b[0;34m=\u001b[0m \u001b[0mpreprocessor\u001b[0m\u001b[0;34m.\u001b[0m\u001b[0mprocess_data\u001b[0m\u001b[0;34m(\u001b[0m\u001b[0;34m)\u001b[0m\u001b[0;34m\u001b[0m\u001b[0;34m\u001b[0m\u001b[0m\n\u001b[0m\u001b[1;32m     14\u001b[0m \u001b[0;31m# print(f\"Dataset size: {len(dataset)}\")\u001b[0m\u001b[0;34m\u001b[0m\u001b[0;34m\u001b[0m\u001b[0m\n\u001b[1;32m     15\u001b[0m     \u001b[0;31m# Split dataset\u001b[0m\u001b[0;34m\u001b[0m\u001b[0;34m\u001b[0m\u001b[0m\n",
            "\u001b[0;32m<ipython-input-6-5178fcec85a5>\u001b[0m in \u001b[0;36mprocess_data\u001b[0;34m(self)\u001b[0m\n\u001b[1;32m     46\u001b[0m \u001b[0;34m\u001b[0m\u001b[0m\n\u001b[1;32m     47\u001b[0m         \u001b[0mprint\u001b[0m\u001b[0;34m(\u001b[0m\u001b[0;34m\"Processing data from scratch...\"\u001b[0m\u001b[0;34m)\u001b[0m\u001b[0;34m\u001b[0m\u001b[0;34m\u001b[0m\u001b[0m\n\u001b[0;32m---> 48\u001b[0;31m         \u001b[0;32mreturn\u001b[0m \u001b[0mself\u001b[0m\u001b[0;34m.\u001b[0m\u001b[0mcreate_and_cache_data\u001b[0m\u001b[0;34m(\u001b[0m\u001b[0;34m)\u001b[0m\u001b[0;34m\u001b[0m\u001b[0;34m\u001b[0m\u001b[0m\n\u001b[0m\u001b[1;32m     49\u001b[0m \u001b[0;34m\u001b[0m\u001b[0m\n\u001b[1;32m     50\u001b[0m     \u001b[0;32mdef\u001b[0m \u001b[0mcreate_and_cache_data\u001b[0m\u001b[0;34m(\u001b[0m\u001b[0mself\u001b[0m\u001b[0;34m)\u001b[0m\u001b[0;34m:\u001b[0m\u001b[0;34m\u001b[0m\u001b[0;34m\u001b[0m\u001b[0m\n",
            "\u001b[0;32m<ipython-input-6-5178fcec85a5>\u001b[0m in \u001b[0;36mcreate_and_cache_data\u001b[0;34m(self)\u001b[0m\n\u001b[1;32m     79\u001b[0m             \u001b[0mimage_path\u001b[0m \u001b[0;34m=\u001b[0m \u001b[0mos\u001b[0m\u001b[0;34m.\u001b[0m\u001b[0mpath\u001b[0m\u001b[0;34m.\u001b[0m\u001b[0mjoin\u001b[0m\u001b[0;34m(\u001b[0m\u001b[0mself\u001b[0m\u001b[0;34m.\u001b[0m\u001b[0mimage_dir\u001b[0m\u001b[0;34m,\u001b[0m \u001b[0mimg_name\u001b[0m\u001b[0;34m)\u001b[0m\u001b[0;34m\u001b[0m\u001b[0;34m\u001b[0m\u001b[0m\n\u001b[1;32m     80\u001b[0m             \u001b[0;32mif\u001b[0m \u001b[0mos\u001b[0m\u001b[0;34m.\u001b[0m\u001b[0mpath\u001b[0m\u001b[0;34m.\u001b[0m\u001b[0mexists\u001b[0m\u001b[0;34m(\u001b[0m\u001b[0mimage_path\u001b[0m\u001b[0;34m)\u001b[0m\u001b[0;34m:\u001b[0m\u001b[0;34m\u001b[0m\u001b[0;34m\u001b[0m\u001b[0m\n\u001b[0;32m---> 81\u001b[0;31m                 \u001b[0mfeatures\u001b[0m \u001b[0;34m=\u001b[0m \u001b[0mself\u001b[0m\u001b[0;34m.\u001b[0m\u001b[0mextract_features\u001b[0m\u001b[0;34m(\u001b[0m\u001b[0mimage_path\u001b[0m\u001b[0;34m)\u001b[0m\u001b[0;34m\u001b[0m\u001b[0;34m\u001b[0m\u001b[0m\n\u001b[0m\u001b[1;32m     82\u001b[0m \u001b[0;34m\u001b[0m\u001b[0m\n\u001b[1;32m     83\u001b[0m                 \u001b[0;32mfor\u001b[0m \u001b[0mcaption\u001b[0m \u001b[0;32min\u001b[0m \u001b[0mimg_captions\u001b[0m\u001b[0;34m[\u001b[0m\u001b[0mimg_name\u001b[0m\u001b[0;34m]\u001b[0m\u001b[0;34m:\u001b[0m\u001b[0;34m\u001b[0m\u001b[0;34m\u001b[0m\u001b[0m\n",
            "\u001b[0;32m<ipython-input-6-5178fcec85a5>\u001b[0m in \u001b[0;36mextract_features\u001b[0;34m(self, image_path)\u001b[0m\n\u001b[1;32m     26\u001b[0m     \u001b[0;32mdef\u001b[0m \u001b[0mextract_features\u001b[0m\u001b[0;34m(\u001b[0m\u001b[0mself\u001b[0m\u001b[0;34m,\u001b[0m \u001b[0mimage_path\u001b[0m\u001b[0;34m)\u001b[0m\u001b[0;34m:\u001b[0m\u001b[0;34m\u001b[0m\u001b[0;34m\u001b[0m\u001b[0m\n\u001b[1;32m     27\u001b[0m         \u001b[0;32mtry\u001b[0m\u001b[0;34m:\u001b[0m\u001b[0;34m\u001b[0m\u001b[0;34m\u001b[0m\u001b[0m\n\u001b[0;32m---> 28\u001b[0;31m             \u001b[0mimage\u001b[0m \u001b[0;34m=\u001b[0m \u001b[0mImage\u001b[0m\u001b[0;34m.\u001b[0m\u001b[0mopen\u001b[0m\u001b[0;34m(\u001b[0m\u001b[0mimage_path\u001b[0m\u001b[0;34m)\u001b[0m\u001b[0;34m.\u001b[0m\u001b[0mconvert\u001b[0m\u001b[0;34m(\u001b[0m\u001b[0;34m'RGB'\u001b[0m\u001b[0;34m)\u001b[0m\u001b[0;34m\u001b[0m\u001b[0;34m\u001b[0m\u001b[0m\n\u001b[0m\u001b[1;32m     29\u001b[0m \u001b[0;34m\u001b[0m\u001b[0m\n\u001b[1;32m     30\u001b[0m             \u001b[0;32mwith\u001b[0m \u001b[0mtorch\u001b[0m\u001b[0;34m.\u001b[0m\u001b[0mno_grad\u001b[0m\u001b[0;34m(\u001b[0m\u001b[0;34m)\u001b[0m\u001b[0;34m:\u001b[0m\u001b[0;34m\u001b[0m\u001b[0;34m\u001b[0m\u001b[0m\n",
            "\u001b[0;32m/usr/local/lib/python3.10/dist-packages/PIL/Image.py\u001b[0m in \u001b[0;36mopen\u001b[0;34m(fp, mode, formats)\u001b[0m\n\u001b[1;32m   3440\u001b[0m         \u001b[0mexclusive_fp\u001b[0m \u001b[0;34m=\u001b[0m \u001b[0;32mTrue\u001b[0m\u001b[0;34m\u001b[0m\u001b[0;34m\u001b[0m\u001b[0m\n\u001b[1;32m   3441\u001b[0m \u001b[0;34m\u001b[0m\u001b[0m\n\u001b[0;32m-> 3442\u001b[0;31m     \u001b[0mprefix\u001b[0m \u001b[0;34m=\u001b[0m \u001b[0mfp\u001b[0m\u001b[0;34m.\u001b[0m\u001b[0mread\u001b[0m\u001b[0;34m(\u001b[0m\u001b[0;36m16\u001b[0m\u001b[0;34m)\u001b[0m\u001b[0;34m\u001b[0m\u001b[0;34m\u001b[0m\u001b[0m\n\u001b[0m\u001b[1;32m   3443\u001b[0m \u001b[0;34m\u001b[0m\u001b[0m\n\u001b[1;32m   3444\u001b[0m     \u001b[0mpreinit\u001b[0m\u001b[0;34m(\u001b[0m\u001b[0;34m)\u001b[0m\u001b[0;34m\u001b[0m\u001b[0;34m\u001b[0m\u001b[0m\n",
            "\u001b[0;31mKeyboardInterrupt\u001b[0m: "
          ]
        }
      ],
      "source": [
        "\n",
        "from torch.utils.data import Dataset, DataLoader, TensorDataset\n",
        "\n",
        "    # Initialize ViT feature extractor\n",
        "print(\"Initializing ViT feature extractor...\")\n",
        "feature_extractor = ViTFeatureExtractor.from_pretrained('google/vit-base-patch16-224')\n",
        "\n",
        "    # Create dataset\n",
        "preprocessor = DataPreprocessor(\n",
        "        image_dir=\"/content/drive/MyDrive/Tech India/Preprocessed-Dataset/Rams-approach-preprocess/flickr30k/Images\",\n",
        "        captions_file=\"/content/drive/MyDrive/Tech India/Preprocessed-Dataset/Rams-approach-preprocess/flickr30k/captions.txt\",\n",
        "        feature_extractor=feature_extractor\n",
        "    )\n",
        "(word2idx, idx2word), (train_features, train_captions), (test_features, test_captions) = preprocessor.process_data()\n",
        "# print(f\"Dataset size: {len(dataset)}\")\n",
        "    # Split dataset\n",
        "train_dataset = TensorDataset(train_features, train_captions)\n",
        "test_dataset = TensorDataset(test_features, test_captions)\n",
        "    # Create data loaders\n",
        "train_loader = DataLoader(\n",
        "        train_dataset,\n",
        "        batch_size=BATCH_SIZE,\n",
        "        shuffle=True,\n",
        "        num_workers=16,\n",
        "        pin_memory=True\n",
        "    )\n",
        "\n",
        "test_loader = DataLoader(\n",
        "        test_dataset,\n",
        "        batch_size=BATCH_SIZE,\n",
        "        num_workers=16,\n",
        "        pin_memory=True\n",
        "    )"
      ]
    },
    {
      "cell_type": "code",
      "source": [
        "(word2idx, idx2word), (train_features, train_captions), (test_features, test_captions) = preprocessor.process_data()\n",
        "# print(f\"Dataset size: {len(dataset)}\")\n"
      ],
      "metadata": {
        "colab": {
          "base_uri": "https://localhost:8080/",
          "height": 443
        },
        "id": "fZhC2ZBr4r9z",
        "outputId": "dfb2510b-7374-4960-e804-af40d3b28eac"
      },
      "execution_count": null,
      "outputs": [
        {
          "output_type": "stream",
          "name": "stdout",
          "text": [
            "Processing data from scratch...\n",
            "Reading captions file...\n"
          ]
        },
        {
          "output_type": "stream",
          "name": "stderr",
          "text": [
            "Reading captions: 100%|██████████| 158915/158915 [00:00<00:00, 844690.69it/s]\n"
          ]
        },
        {
          "output_type": "stream",
          "name": "stdout",
          "text": [
            "Building vocabulary...\n",
            "Vocabulary size: 10000\n",
            "\n",
            "Processing images and creating batches...\n"
          ]
        },
        {
          "output_type": "stream",
          "name": "stderr",
          "text": [
            "Processing images:   4%|▍         | 1339/31783 [04:29<1:42:10,  4.97it/s]\n"
          ]
        },
        {
          "output_type": "error",
          "ename": "KeyboardInterrupt",
          "evalue": "",
          "traceback": [
            "\u001b[0;31m---------------------------------------------------------------------------\u001b[0m",
            "\u001b[0;31mKeyboardInterrupt\u001b[0m                         Traceback (most recent call last)",
            "\u001b[0;32m<ipython-input-19-9e1fff0abdfa>\u001b[0m in \u001b[0;36m<cell line: 1>\u001b[0;34m()\u001b[0m\n\u001b[0;32m----> 1\u001b[0;31m \u001b[0;34m(\u001b[0m\u001b[0mword2idx\u001b[0m\u001b[0;34m,\u001b[0m \u001b[0midx2word\u001b[0m\u001b[0;34m)\u001b[0m\u001b[0;34m,\u001b[0m \u001b[0;34m(\u001b[0m\u001b[0mtrain_features\u001b[0m\u001b[0;34m,\u001b[0m \u001b[0mtrain_captions\u001b[0m\u001b[0;34m)\u001b[0m\u001b[0;34m,\u001b[0m \u001b[0;34m(\u001b[0m\u001b[0mtest_features\u001b[0m\u001b[0;34m,\u001b[0m \u001b[0mtest_captions\u001b[0m\u001b[0;34m)\u001b[0m \u001b[0;34m=\u001b[0m \u001b[0mpreprocessor\u001b[0m\u001b[0;34m.\u001b[0m\u001b[0mprocess_data\u001b[0m\u001b[0;34m(\u001b[0m\u001b[0;34m)\u001b[0m\u001b[0;34m\u001b[0m\u001b[0;34m\u001b[0m\u001b[0m\n\u001b[0m\u001b[1;32m      2\u001b[0m \u001b[0;31m# print(f\"Dataset size: {len(dataset)}\")\u001b[0m\u001b[0;34m\u001b[0m\u001b[0;34m\u001b[0m\u001b[0m\n",
            "\u001b[0;32m<ipython-input-6-5178fcec85a5>\u001b[0m in \u001b[0;36mprocess_data\u001b[0;34m(self)\u001b[0m\n\u001b[1;32m     46\u001b[0m \u001b[0;34m\u001b[0m\u001b[0m\n\u001b[1;32m     47\u001b[0m         \u001b[0mprint\u001b[0m\u001b[0;34m(\u001b[0m\u001b[0;34m\"Processing data from scratch...\"\u001b[0m\u001b[0;34m)\u001b[0m\u001b[0;34m\u001b[0m\u001b[0;34m\u001b[0m\u001b[0m\n\u001b[0;32m---> 48\u001b[0;31m         \u001b[0;32mreturn\u001b[0m \u001b[0mself\u001b[0m\u001b[0;34m.\u001b[0m\u001b[0mcreate_and_cache_data\u001b[0m\u001b[0;34m(\u001b[0m\u001b[0;34m)\u001b[0m\u001b[0;34m\u001b[0m\u001b[0;34m\u001b[0m\u001b[0m\n\u001b[0m\u001b[1;32m     49\u001b[0m \u001b[0;34m\u001b[0m\u001b[0m\n\u001b[1;32m     50\u001b[0m     \u001b[0;32mdef\u001b[0m \u001b[0mcreate_and_cache_data\u001b[0m\u001b[0;34m(\u001b[0m\u001b[0mself\u001b[0m\u001b[0;34m)\u001b[0m\u001b[0;34m:\u001b[0m\u001b[0;34m\u001b[0m\u001b[0;34m\u001b[0m\u001b[0m\n",
            "\u001b[0;32m<ipython-input-6-5178fcec85a5>\u001b[0m in \u001b[0;36mcreate_and_cache_data\u001b[0;34m(self)\u001b[0m\n\u001b[1;32m     79\u001b[0m             \u001b[0mimage_path\u001b[0m \u001b[0;34m=\u001b[0m \u001b[0mos\u001b[0m\u001b[0;34m.\u001b[0m\u001b[0mpath\u001b[0m\u001b[0;34m.\u001b[0m\u001b[0mjoin\u001b[0m\u001b[0;34m(\u001b[0m\u001b[0mself\u001b[0m\u001b[0;34m.\u001b[0m\u001b[0mimage_dir\u001b[0m\u001b[0;34m,\u001b[0m \u001b[0mimg_name\u001b[0m\u001b[0;34m)\u001b[0m\u001b[0;34m\u001b[0m\u001b[0;34m\u001b[0m\u001b[0m\n\u001b[1;32m     80\u001b[0m             \u001b[0;32mif\u001b[0m \u001b[0mos\u001b[0m\u001b[0;34m.\u001b[0m\u001b[0mpath\u001b[0m\u001b[0;34m.\u001b[0m\u001b[0mexists\u001b[0m\u001b[0;34m(\u001b[0m\u001b[0mimage_path\u001b[0m\u001b[0;34m)\u001b[0m\u001b[0;34m:\u001b[0m\u001b[0;34m\u001b[0m\u001b[0;34m\u001b[0m\u001b[0m\n\u001b[0;32m---> 81\u001b[0;31m                 \u001b[0mfeatures\u001b[0m \u001b[0;34m=\u001b[0m \u001b[0mself\u001b[0m\u001b[0;34m.\u001b[0m\u001b[0mextract_features\u001b[0m\u001b[0;34m(\u001b[0m\u001b[0mimage_path\u001b[0m\u001b[0;34m)\u001b[0m\u001b[0;34m\u001b[0m\u001b[0;34m\u001b[0m\u001b[0m\n\u001b[0m\u001b[1;32m     82\u001b[0m \u001b[0;34m\u001b[0m\u001b[0m\n\u001b[1;32m     83\u001b[0m                 \u001b[0;32mfor\u001b[0m \u001b[0mcaption\u001b[0m \u001b[0;32min\u001b[0m \u001b[0mimg_captions\u001b[0m\u001b[0;34m[\u001b[0m\u001b[0mimg_name\u001b[0m\u001b[0;34m]\u001b[0m\u001b[0;34m:\u001b[0m\u001b[0;34m\u001b[0m\u001b[0;34m\u001b[0m\u001b[0m\n",
            "\u001b[0;32m<ipython-input-6-5178fcec85a5>\u001b[0m in \u001b[0;36mextract_features\u001b[0;34m(self, image_path)\u001b[0m\n\u001b[1;32m     26\u001b[0m     \u001b[0;32mdef\u001b[0m \u001b[0mextract_features\u001b[0m\u001b[0;34m(\u001b[0m\u001b[0mself\u001b[0m\u001b[0;34m,\u001b[0m \u001b[0mimage_path\u001b[0m\u001b[0;34m)\u001b[0m\u001b[0;34m:\u001b[0m\u001b[0;34m\u001b[0m\u001b[0;34m\u001b[0m\u001b[0m\n\u001b[1;32m     27\u001b[0m         \u001b[0;32mtry\u001b[0m\u001b[0;34m:\u001b[0m\u001b[0;34m\u001b[0m\u001b[0;34m\u001b[0m\u001b[0m\n\u001b[0;32m---> 28\u001b[0;31m             \u001b[0mimage\u001b[0m \u001b[0;34m=\u001b[0m \u001b[0mImage\u001b[0m\u001b[0;34m.\u001b[0m\u001b[0mopen\u001b[0m\u001b[0;34m(\u001b[0m\u001b[0mimage_path\u001b[0m\u001b[0;34m)\u001b[0m\u001b[0;34m.\u001b[0m\u001b[0mconvert\u001b[0m\u001b[0;34m(\u001b[0m\u001b[0;34m'RGB'\u001b[0m\u001b[0;34m)\u001b[0m\u001b[0;34m\u001b[0m\u001b[0;34m\u001b[0m\u001b[0m\n\u001b[0m\u001b[1;32m     29\u001b[0m \u001b[0;34m\u001b[0m\u001b[0m\n\u001b[1;32m     30\u001b[0m             \u001b[0;32mwith\u001b[0m \u001b[0mtorch\u001b[0m\u001b[0;34m.\u001b[0m\u001b[0mno_grad\u001b[0m\u001b[0;34m(\u001b[0m\u001b[0;34m)\u001b[0m\u001b[0;34m:\u001b[0m\u001b[0;34m\u001b[0m\u001b[0;34m\u001b[0m\u001b[0m\n",
            "\u001b[0;32m/usr/local/lib/python3.10/dist-packages/PIL/Image.py\u001b[0m in \u001b[0;36mopen\u001b[0;34m(fp, mode, formats)\u001b[0m\n\u001b[1;32m   3440\u001b[0m         \u001b[0mexclusive_fp\u001b[0m \u001b[0;34m=\u001b[0m \u001b[0;32mTrue\u001b[0m\u001b[0;34m\u001b[0m\u001b[0;34m\u001b[0m\u001b[0m\n\u001b[1;32m   3441\u001b[0m \u001b[0;34m\u001b[0m\u001b[0m\n\u001b[0;32m-> 3442\u001b[0;31m     \u001b[0mprefix\u001b[0m \u001b[0;34m=\u001b[0m \u001b[0mfp\u001b[0m\u001b[0;34m.\u001b[0m\u001b[0mread\u001b[0m\u001b[0;34m(\u001b[0m\u001b[0;36m16\u001b[0m\u001b[0;34m)\u001b[0m\u001b[0;34m\u001b[0m\u001b[0;34m\u001b[0m\u001b[0m\n\u001b[0m\u001b[1;32m   3443\u001b[0m \u001b[0;34m\u001b[0m\u001b[0m\n\u001b[1;32m   3444\u001b[0m     \u001b[0mpreinit\u001b[0m\u001b[0;34m(\u001b[0m\u001b[0;34m)\u001b[0m\u001b[0;34m\u001b[0m\u001b[0;34m\u001b[0m\u001b[0m\n",
            "\u001b[0;31mKeyboardInterrupt\u001b[0m: "
          ]
        }
      ]
    },
    {
      "cell_type": "code",
      "source": [
        "import pickle\n",
        "\n",
        "def load_dataset(cache_dir='cached_data', batch_size=32):\n",
        "    \"\"\"\n",
        "    Load preprocessed data from pickle files and create DataLoaders\n",
        "    Returns vocabulary and data loaders for train and test sets\n",
        "    \"\"\"\n",
        "    vocab_path = os.path.join(cache_dir, 'vocabulary.pkl')\n",
        "    train_path = os.path.join(cache_dir, 'train_data.pkl')\n",
        "    test_path = os.path.join(cache_dir, 'test_data.pkl')\n",
        "\n",
        "    # Check if pickle files exist\n",
        "    if not all(os.path.exists(p) for p in [vocab_path, train_path, test_path]):\n",
        "        raise FileNotFoundError(\"Required pickle files not found. Run preprocessing first.\")\n",
        "\n",
        "    # Load vocabulary\n",
        "    print(\"Loading vocabulary...\")\n",
        "    with open(vocab_path, 'rb') as f:\n",
        "        word2idx, idx2word = pickle.load(f)\n",
        "\n",
        "    # Load train features and captions\n",
        "    print(\"Loading train data...\")\n",
        "    with open(train_path, 'rb') as f:\n",
        "        train_features, train_captions = pickle.load(f)\n",
        "\n",
        "    # Load test features and captions\n",
        "    print(\"Loading test data...\")\n",
        "    with open(test_path, 'rb') as f:\n",
        "        test_features, test_captions = pickle.load(f)\n",
        "\n",
        "    # Create datasets\n",
        "    train_dataset = TensorDataset(train_features, train_captions)\n",
        "    test_dataset = TensorDataset(test_features, test_captions)\n",
        "\n",
        "    # Create data loaders\n",
        "    train_loader = DataLoader(\n",
        "        train_dataset,\n",
        "        batch_size=batch_size,\n",
        "        shuffle=True,\n",
        "        num_workers=16,\n",
        "        pin_memory=True\n",
        "    )\n",
        "\n",
        "    test_loader = DataLoader(\n",
        "        test_dataset,\n",
        "        batch_size=batch_size,\n",
        "        num_workers=16,\n",
        "        pin_memory=True\n",
        "    )\n",
        "\n",
        "    print(f\"Vocabulary size: {len(word2idx)}\")\n",
        "    print(f\"Train set size: {len(train_features)}\")\n",
        "    print(f\"Test set size: {len(test_features)}\")\n",
        "\n",
        "    # Return both raw data and loaders\n",
        "    raw_data = {\n",
        "        'vocab': (word2idx, idx2word),\n",
        "        'train_data': (train_features, train_captions),\n",
        "        'test_data': (test_features, test_captions)\n",
        "    }\n",
        "\n",
        "    loaders = {\n",
        "        'train': train_loader,\n",
        "        'test': test_loader\n",
        "    }\n",
        "\n",
        "    return raw_data, loaders\n",
        "# Load both raw data and DataLoaders\n",
        "raw_data, loaders = load_dataset(cache_dir='/content/drive/MyDrive/Tech India/Preprocessed-Dataset/Rams-approach-preprocess/flickr30k/cached_data', batch_size=32)\n",
        "\n",
        "# Access vocabulary and raw data if needed\n",
        "word2idx, idx2word = raw_data['vocab']\n",
        "train_features, train_captions = raw_data['train_data']\n",
        "test_features, test_captions = raw_data['test_data']\n",
        "\n",
        "# Access DataLoaders\n",
        "train_loader = loaders['train']\n",
        "test_loader = loaders['test']"
      ],
      "metadata": {
        "colab": {
          "base_uri": "https://localhost:8080/"
        },
        "id": "85eakc562dQ9",
        "outputId": "eebb1554-3110-46a0-89ee-f34e407ad782"
      },
      "execution_count": null,
      "outputs": [
        {
          "output_type": "stream",
          "name": "stdout",
          "text": [
            "Loading vocabulary...\n",
            "Loading train data...\n",
            "Loading test data...\n",
            "Vocabulary size: 10000\n",
            "Train set size: 127131\n",
            "Test set size: 31783\n"
          ]
        },
        {
          "output_type": "stream",
          "name": "stderr",
          "text": [
            "/usr/local/lib/python3.10/dist-packages/torch/utils/data/dataloader.py:617: UserWarning: This DataLoader will create 16 worker processes in total. Our suggested max number of worker in current system is 2, which is smaller than what this DataLoader is going to create. Please be aware that excessive worker creation might get DataLoader running slow or even freeze, lower the worker number to avoid potential slowness/freeze if necessary.\n",
            "  warnings.warn(\n"
          ]
        }
      ]
    },
    {
      "cell_type": "markdown",
      "source": [
        "# Model"
      ],
      "metadata": {
        "id": "wIqSaQMXU6Qr"
      }
    },
    {
      "cell_type": "code",
      "source": [
        "import torch.nn.functional as F\n",
        "class AttentionLayer(nn.Module):\n",
        "    def __init__(self, hidden_size):\n",
        "        super(AttentionLayer, self).__init__()\n",
        "        self.attention = nn.Linear(hidden_size * 2, hidden_size)\n",
        "        self.v = nn.Parameter(torch.rand(hidden_size))\n",
        "        self.v.data.normal_(mean=0, std=0.1)\n",
        "\n",
        "    def forward(self, hidden, encoder_outputs):\n",
        "        \"\"\"\n",
        "        hidden: (batch_size, 1, hidden_size)\n",
        "        encoder_outputs: (batch_size, seq_len, hidden_size)\n",
        "        \"\"\"\n",
        "        batch_size, seq_len, hidden_size = encoder_outputs.size()\n",
        "\n",
        "        # Ensure hidden has correct shape\n",
        "        if hidden.dim() == 2:\n",
        "            hidden = hidden.unsqueeze(1)\n",
        "\n",
        "        # Repeat hidden state for each encoder output\n",
        "        hidden = hidden.repeat(1, seq_len, 1)\n",
        "\n",
        "        # Calculate attention scores\n",
        "        energy = torch.tanh(self.attention(torch.cat((hidden, encoder_outputs), dim=2)))\n",
        "\n",
        "        # Reshape v for batch processing\n",
        "        v = self.v.repeat(batch_size, 1).unsqueeze(1)\n",
        "\n",
        "        # Calculate attention weights\n",
        "        attention_weights = torch.bmm(v, energy.transpose(1, 2)).squeeze(1)\n",
        "        attention_weights = F.softmax(attention_weights, dim=1)\n",
        "\n",
        "        # Apply attention to encoder outputs\n",
        "        context = torch.bmm(attention_weights.unsqueeze(1), encoder_outputs)\n",
        "\n",
        "        return context, attention_weights\n"
      ],
      "metadata": {
        "id": "3V5mk2rQC3dH"
      },
      "execution_count": null,
      "outputs": []
    },
    {
      "cell_type": "code",
      "execution_count": null,
      "metadata": {
        "id": "fhu_DD19Xh_j"
      },
      "outputs": [],
      "source": [
        "class ImageCaptioningModel(nn.Module):\n",
        "    def __init__(self, input_size, hidden_size, vocab_size, embed_size=256, num_layers=2, dropout_p=0.3):\n",
        "        super(ImageCaptioningModel, self).__init__()\n",
        "\n",
        "        self.hidden_size = hidden_size\n",
        "        self.vocab_size = vocab_size\n",
        "        self.num_layers = num_layers\n",
        "        self.embed_size = embed_size\n",
        "\n",
        "        # Image feature processing\n",
        "        self.feature_encoder = nn.Sequential(\n",
        "            nn.Linear(input_size, hidden_size * 2),\n",
        "            nn.ReLU(),\n",
        "            nn.Dropout(dropout_p),\n",
        "            nn.Linear(hidden_size * 2, hidden_size),\n",
        "            nn.ReLU(),\n",
        "            nn.Dropout(dropout_p)\n",
        "        )\n",
        "\n",
        "        # Word embeddings\n",
        "        self.embedding = nn.Embedding(vocab_size, embed_size, padding_idx=0)\n",
        "        self.embed_dropout = nn.Dropout(dropout_p)\n",
        "\n",
        "        # Additional embedding processing\n",
        "        self.embed_process = nn.Linear(embed_size, hidden_size)\n",
        "\n",
        "        # Attention\n",
        "        self.attention = AttentionLayer(hidden_size)\n",
        "\n",
        "        # Decoder LSTM\n",
        "        self.decoder_rnn = nn.LSTM(\n",
        "            input_size=hidden_size * 2,  # Concatenated context and processed embedding\n",
        "            hidden_size=hidden_size,\n",
        "            num_layers=num_layers,\n",
        "            batch_first=True,\n",
        "            dropout=dropout_p if num_layers > 1 else 0\n",
        "        )\n",
        "\n",
        "        # Output projection\n",
        "        self.output_layer = nn.Sequential(\n",
        "            nn.Linear(hidden_size, hidden_size),\n",
        "            nn.ReLU(),\n",
        "            nn.Dropout(dropout_p),\n",
        "            nn.Linear(hidden_size, vocab_size)\n",
        "        )\n",
        "\n",
        "        # Layer normalization\n",
        "        self.layer_norm = nn.LayerNorm(hidden_size)\n",
        "\n",
        "    def forward(self, images, captions, teacher_forcing_ratio=0.5):\n",
        "        batch_size = images.size(0)\n",
        "        max_length = captions.size(1) - 1  # -1 because we don't predict for last token\n",
        "        device = images.device\n",
        "\n",
        "        # Encode images\n",
        "        image_features = self.feature_encoder(images)\n",
        "        image_features = image_features.unsqueeze(1)  # (batch_size, 1, hidden_size)\n",
        "\n",
        "        # Initialize outputs tensor\n",
        "        outputs = torch.zeros(batch_size, max_length, self.vocab_size).to(device)\n",
        "\n",
        "        # Initialize decoder input\n",
        "        decoder_input = captions[:, 0]  # Start tokens\n",
        "\n",
        "        # Initialize hidden states\n",
        "        h = torch.zeros(self.num_layers, batch_size, self.hidden_size).to(device)\n",
        "        c = torch.zeros(self.num_layers, batch_size, self.hidden_size).to(device)\n",
        "        hidden = (h, c)\n",
        "\n",
        "        for t in range(max_length):\n",
        "            # Embed input tokens\n",
        "            embedded = self.embedding(decoder_input)  # (batch_size, embed_size)\n",
        "            embedded = self.embed_dropout(embedded)\n",
        "            embedded = self.embed_process(embedded)  # (batch_size, hidden_size)\n",
        "\n",
        "            # Add sequence dimension\n",
        "            embedded = embedded.unsqueeze(1)  # (batch_size, 1, hidden_size)\n",
        "\n",
        "            # Calculate attention\n",
        "            context, _ = self.attention(embedded, image_features)\n",
        "\n",
        "            # Combine embedding and context\n",
        "            decoder_input_combined = torch.cat((embedded, context), dim=2)\n",
        "\n",
        "            # RNN forward pass\n",
        "            output, hidden = self.decoder_rnn(decoder_input_combined, hidden)\n",
        "\n",
        "            # Process output\n",
        "            output = self.layer_norm(output.squeeze(1))\n",
        "            output = self.output_layer(output)\n",
        "\n",
        "            # Store output\n",
        "            outputs[:, t] = output\n",
        "\n",
        "            # Teacher forcing\n",
        "            if random.random() < teacher_forcing_ratio and t < max_length - 1:\n",
        "                decoder_input = captions[:, t + 1]\n",
        "            else:\n",
        "                decoder_input = output.argmax(dim=1)\n",
        "\n",
        "        return outputs"
      ]
    },
    {
      "cell_type": "code",
      "source": [
        "\n",
        "def evaluate_model(model, test_loader, criterion, device, pad_idx):\n",
        "    model.eval()\n",
        "    total_loss = 0\n",
        "    total_word_accuracy = 0\n",
        "    total_sentence_accuracy = 0\n",
        "    num_batches = 0\n",
        "\n",
        "    with torch.no_grad():\n",
        "        progress_bar = tqdm(test_loader, desc=\"Evaluating\")\n",
        "\n",
        "        for images, captions in progress_bar:\n",
        "            # Move to device\n",
        "            images = images.to(device)\n",
        "            captions = captions.to(device)\n",
        "\n",
        "            # Get input and target sequences\n",
        "            input_captions = captions[:, :-1]\n",
        "            target_captions = captions[:, 1:]\n",
        "\n",
        "            # Forward pass\n",
        "            outputs = model(images, input_captions)\n",
        "            outputs = outputs[:, :-1, :]\n",
        "\n",
        "            # Reshape for loss calculation\n",
        "            outputs_flat = outputs.reshape(-1, outputs.size(-1))\n",
        "            targets_flat = target_captions.reshape(-1)\n",
        "\n",
        "            # Calculate metrics\n",
        "            loss = criterion(outputs_flat, targets_flat)\n",
        "            word_acc, sent_acc = calculate_accuracy(outputs_flat, targets_flat, pad_idx)\n",
        "\n",
        "            # Update metrics\n",
        "            total_loss += loss.item()\n",
        "            total_word_accuracy += word_acc\n",
        "            total_sentence_accuracy += sent_acc\n",
        "            num_batches += 1\n",
        "\n",
        "            # Update progress bar\n",
        "            progress_bar.set_postfix({\n",
        "                'loss': f'{loss.item():.4f}',\n",
        "                'word_acc': f'{word_acc:.4f}',\n",
        "                'sent_acc': f'{sent_acc:.4f}'\n",
        "            })\n",
        "\n",
        "    # Calculate averages\n",
        "    avg_loss = total_loss / num_batches\n",
        "    avg_word_acc = total_word_accuracy / num_batches\n",
        "    avg_sent_acc = total_sentence_accuracy / num_batches\n",
        "\n",
        "    return {\n",
        "        'loss': avg_loss,\n",
        "        'word_accuracy': avg_word_acc,\n",
        "        'sentence_accuracy': avg_sent_acc\n",
        "    }"
      ],
      "metadata": {
        "id": "mg4rKUZl3Rvx"
      },
      "execution_count": null,
      "outputs": []
    },
    {
      "cell_type": "code",
      "source": [
        "def calculate_accuracy(outputs, targets, pad_idx):\n",
        "    \"\"\"\n",
        "    Calculate word-level\n",
        "    outputs: (batch_size * seq_len, vocab_size)\n",
        "    targets: (batch_size * seq_len)\n",
        "    \"\"\"\n",
        "    # Get predictions\n",
        "    predictions = outputs.argmax(dim=1)  # (batch_size * seq_len)\n",
        "\n",
        "    # Create mask to ignore padding tokens\n",
        "    mask = (targets != pad_idx)\n",
        "\n",
        "    # Word-level accuracy\n",
        "    correct_words = ((predictions == targets) & mask).sum().item()\n",
        "    total_words = mask.sum().item()\n",
        "    word_accuracy = correct_words / total_words if total_words > 0 else 0\n",
        "\n",
        "    # Reshape for sentence-level accuracy\n",
        "    batch_size = len(targets) // targets.shape[0]\n",
        "    predictions = predictions.view(-1, batch_size)\n",
        "    targets = targets.view(-1, batch_size)\n",
        "    mask = mask.view(-1, batch_size)\n",
        "\n",
        "    return word_accuracy"
      ],
      "metadata": {
        "id": "I5h9CEoD3VJU"
      },
      "execution_count": null,
      "outputs": []
    },
    {
      "cell_type": "code",
      "source": [
        "from torch.nn.parallel import DataParallel\n",
        "from tqdm import tqdm\n",
        "import threading\n",
        "from queue import Queue\n",
        "import random\n",
        "from torch.cuda.amp import autocast, GradScaler"
      ],
      "metadata": {
        "id": "Qn1Jr9Wl36Qm"
      },
      "execution_count": null,
      "outputs": []
    },
    {
      "cell_type": "code",
      "execution_count": null,
      "metadata": {
        "id": "GGfC3vfCXkZY"
      },
      "outputs": [],
      "source": [
        "import random\n",
        "def train_model(model, train_loader, criterion, optimizer, device, epoch, total_epochs, teacher_forcing_ratio=0.5):\n",
        "    model.train()\n",
        "    total_loss = 0\n",
        "    total_words = 0\n",
        "    correct_words = 0\n",
        "\n",
        "    progress_bar = tqdm(train_loader, desc=f\"Epoch {epoch}/{total_epochs}\")\n",
        "\n",
        "    for i, (images, captions) in enumerate(progress_bar):\n",
        "        try:\n",
        "            # Move to device\n",
        "            images = images.to(device)\n",
        "            captions = captions.to(device)\n",
        "\n",
        "            # Forward pass\n",
        "            outputs = model(images, captions)\n",
        "\n",
        "            # Calculate loss\n",
        "            loss = criterion(\n",
        "                outputs.reshape(-1, outputs.size(-1)),\n",
        "                captions[:, 1:].reshape(-1)\n",
        "            )\n",
        "\n",
        "            # Calculate accuracy\n",
        "            predictions = outputs.argmax(dim=2)\n",
        "            mask = captions[:, 1:] != 0  # Ignore padding\n",
        "            correct = (predictions == captions[:, 1:]) & mask\n",
        "            total_words += mask.sum().item()\n",
        "            correct_words += correct.sum().item()\n",
        "\n",
        "            # Backward pass\n",
        "            optimizer.zero_grad()\n",
        "            loss.backward()\n",
        "            torch.nn.utils.clip_grad_norm_(model.parameters(), max_norm=1.0)\n",
        "            optimizer.step()\n",
        "\n",
        "            # Update metrics\n",
        "            total_loss += loss.item()\n",
        "            current_accuracy = correct_words / total_words if total_words > 0 else 0\n",
        "\n",
        "            # Update progress bar\n",
        "            progress_bar.set_postfix({\n",
        "                'loss': f'{loss.item():.4f}',\n",
        "                'acc': f'{current_accuracy:.4f}'\n",
        "            })\n",
        "\n",
        "            # Print batch statistics\n",
        "            if (i + 1) % 100 == 0:\n",
        "                print(f\"\\nBatch {i+1}/{len(train_loader)}\")\n",
        "                print(f\"Loss: {loss.item():.4f}\")\n",
        "\n",
        "        except Exception as e:\n",
        "            print(f\"\\nError in batch {i}:\")\n",
        "            print(f\"Exception: {str(e)}\")\n",
        "            continue\n",
        "\n",
        "    avg_loss = total_loss / len(train_loader)\n",
        "    avg_accuracy = correct_words / total_words if total_words > 0 else 0\n",
        "\n",
        "    return avg_loss, avg_accuracy\n",
        "\n"
      ]
    },
    {
      "cell_type": "code",
      "source": [
        "import random\n",
        "import torch\n",
        "import threading\n",
        "from queue import Queue\n",
        "from tqdm import tqdm\n",
        "from concurrent.futures import ThreadPoolExecutor\n",
        "\n",
        "def train_model(model, train_loader, criterion, optimizer, device, epoch, total_epochs, teacher_forcing_ratio=0.5, num_threads=2):\n",
        "    model.train()\n",
        "    total_loss = 0\n",
        "    total_words = 0\n",
        "    correct_words = 0\n",
        "\n",
        "    # Create queues for batch processing and results\n",
        "    batch_queue = Queue(maxsize=num_threads * 2)\n",
        "    result_queue = Queue()\n",
        "\n",
        "    # Lock for synchronizing updates\n",
        "    update_lock = threading.Lock()\n",
        "\n",
        "    def process_batch(batch_data):\n",
        "        try:\n",
        "            images, captions = batch_data\n",
        "            batch_results = {}\n",
        "\n",
        "            # Move to device\n",
        "            images = images.to(device)\n",
        "            captions = captions.to(device)\n",
        "\n",
        "            # Forward pass\n",
        "            outputs = model(images, captions)\n",
        "\n",
        "            # Calculate loss\n",
        "            loss = criterion(\n",
        "                outputs.reshape(-1, outputs.size(-1)),\n",
        "                captions[:, 1:].reshape(-1)\n",
        "            )\n",
        "\n",
        "            # Calculate accuracy\n",
        "            predictions = outputs.argmax(dim=2)\n",
        "            mask = captions[:, 1:] != 0  # Ignore padding\n",
        "            correct = (predictions == captions[:, 1:]) & mask\n",
        "\n",
        "            batch_results['loss'] = loss\n",
        "            batch_results['correct'] = correct.sum().item()\n",
        "            batch_results['total'] = mask.sum().item()\n",
        "\n",
        "            return batch_results\n",
        "\n",
        "        except Exception as e:\n",
        "            print(f\"\\nError processing batch:\")\n",
        "            print(f\"Exception: {str(e)}\")\n",
        "            return None\n",
        "\n",
        "    def update_metrics(results):\n",
        "        nonlocal total_loss, total_words, correct_words\n",
        "\n",
        "        with update_lock:\n",
        "            if results:\n",
        "                total_loss += results['loss'].item()\n",
        "                total_words += results['total']\n",
        "                correct_words += results['correct']\n",
        "\n",
        "                # Backward pass (needs to be done in main thread for thread safety)\n",
        "                optimizer.zero_grad()\n",
        "                results['loss'].backward()\n",
        "                torch.nn.utils.clip_grad_norm_(model.parameters(), max_norm=1.0)\n",
        "                optimizer.step()\n",
        "\n",
        "    progress_bar = tqdm(train_loader, desc=f\"Epoch {epoch}/{total_epochs}\")\n",
        "\n",
        "    # Create thread pool\n",
        "    with ThreadPoolExecutor(max_workers=num_threads) as executor:\n",
        "        futures = []\n",
        "\n",
        "        for i, batch in enumerate(progress_bar):\n",
        "            # Submit batch processing to thread pool\n",
        "            future = executor.submit(process_batch, batch)\n",
        "            futures.append(future)\n",
        "\n",
        "            # Process completed batches\n",
        "            while futures:\n",
        "                done_futures = [f for f in futures if f.done()]\n",
        "                for future in done_futures:\n",
        "                    results = future.result()\n",
        "                    update_metrics(results)\n",
        "                    futures.remove(future)\n",
        "\n",
        "                    # Update progress bar\n",
        "                    current_accuracy = correct_words / total_words if total_words > 0 else 0\n",
        "                    progress_bar.set_postfix({\n",
        "                        'loss': f'{total_loss/(i+1):.4f}',\n",
        "                        'acc': f'{current_accuracy:.4f}'\n",
        "                    })\n",
        "\n",
        "                    # Print batch statistics\n",
        "                    if (i + 1) % 100 == 0:\n",
        "                        print(f\"\\nBatch {i+1}/{len(train_loader)}\")\n",
        "                        print(f\"Loss: {total_loss/(i+1):.4f}\")\n",
        "                        print(f\"Accuracy: {current_accuracy:.4f}\")\n",
        "                        print(f\"Total words: {total_words}\")\n",
        "                        print(f\"Correct words: {correct_words}\")\n",
        "\n",
        "        # Process any remaining futures\n",
        "        for future in futures:\n",
        "            results = future.result()\n",
        "            update_metrics(results)\n",
        "\n",
        "    avg_loss = total_loss / len(train_loader)\n",
        "    avg_accuracy = correct_words / total_words if total_words > 0 else 0\n",
        "\n",
        "    return avg_loss, avg_accuracy\n"
      ],
      "metadata": {
        "colab": {
          "base_uri": "https://localhost:8080/",
          "height": 87
        },
        "id": "ktSh0T_G5lot",
        "outputId": "51a0cedc-a311-4b06-bfa4-f625d8437032"
      },
      "execution_count": null,
      "outputs": [
        {
          "output_type": "execute_result",
          "data": {
            "text/plain": [
              "'\\nmodel = YourModel().to(device)\\ncriterion = torch.nn.CrossEntropyLoss(ignore_index=0)\\noptimizer = torch.optim.Adam(model.parameters(), lr=0.001)\\n\\nfor epoch in range(total_epochs):\\n    avg_loss, avg_accuracy = train_model(\\n        model=model,\\n        train_loader=train_loader,\\n        criterion=criterion,\\n        optimizer=optimizer,\\n        device=device,\\n        epoch=epoch+1,\\n        total_epochs=total_epochs,\\n        num_threads=2  # Adjust based on your system\\n    )\\n'"
            ],
            "application/vnd.google.colaboratory.intrinsic+json": {
              "type": "string"
            }
          },
          "metadata": {},
          "execution_count": 22
        }
      ]
    },
    {
      "cell_type": "code",
      "execution_count": null,
      "metadata": {
        "colab": {
          "base_uri": "https://localhost:8080/"
        },
        "id": "lL06zl4ofhVy",
        "outputId": "4d77b9ee-e6bf-42cd-f70d-05b21ce86a51"
      },
      "outputs": [
        {
          "metadata": {
            "tags": null
          },
          "name": "stdout",
          "output_type": "stream",
          "text": [
            "Using device: cuda\n",
            "Starting training...\n"
          ]
        },
        {
          "metadata": {
            "tags": null
          },
          "name": "stderr",
          "output_type": "stream",
          "text": [
            "Epoch 1/10:   3%|▎         | 100/3973 [01:22<36:32,  1.77it/s, loss=5.4345, acc=0.1859]"
          ]
        },
        {
          "metadata": {
            "tags": null
          },
          "name": "stdout",
          "output_type": "stream",
          "text": [
            "\n",
            "Batch 100/3973\n",
            "Loss: 5.4345\n",
            "Accuracy: 0.1859\n",
            "Total words: 46286\n",
            "Correct words: 8605\n"
          ]
        },
        {
          "metadata": {
            "tags": null
          },
          "name": "stderr",
          "output_type": "stream",
          "text": [
            "Epoch 1/10:   5%|▌         | 200/3973 [02:40<2:18:31,  2.20s/it, loss=5.1775, acc=0.2087]"
          ]
        },
        {
          "metadata": {
            "tags": null
          },
          "name": "stdout",
          "output_type": "stream",
          "text": [
            "\n",
            "Batch 200/3973\n",
            "Loss: 5.1775\n",
            "Accuracy: 0.2087\n",
            "Total words: 92146\n",
            "Correct words: 19230\n"
          ]
        },
        {
          "metadata": {
            "tags": null
          },
          "name": "stderr",
          "output_type": "stream",
          "text": [
            "Epoch 1/10:   8%|▊         | 300/3973 [03:56<33:05,  1.85it/s, loss=5.0580, acc=0.2202]"
          ]
        },
        {
          "metadata": {
            "tags": null
          },
          "name": "stdout",
          "output_type": "stream",
          "text": [
            "\n",
            "Batch 300/3973\n",
            "Loss: 5.0580\n",
            "Accuracy: 0.2202\n",
            "Total words: 138242\n",
            "Correct words: 30447\n"
          ]
        },
        {
          "metadata": {
            "tags": null
          },
          "name": "stderr",
          "output_type": "stream",
          "text": [
            "Epoch 1/10:  10%|█         | 400/3973 [05:11<30:54,  1.93it/s, loss=4.9816, acc=0.2277]"
          ]
        },
        {
          "metadata": {
            "tags": null
          },
          "name": "stdout",
          "output_type": "stream",
          "text": [
            "\n",
            "Batch 400/3973\n",
            "Loss: 4.9816\n",
            "Accuracy: 0.2277\n",
            "Total words: 184089\n",
            "Correct words: 41918\n"
          ]
        },
        {
          "metadata": {
            "tags": null
          },
          "name": "stderr",
          "output_type": "stream",
          "text": [
            "Epoch 1/10:  13%|█▎        | 500/3973 [06:35<36:39,  1.58it/s, loss=4.9351, acc=0.2317]"
          ]
        },
        {
          "metadata": {
            "tags": null
          },
          "name": "stdout",
          "output_type": "stream",
          "text": [
            "\n",
            "Batch 500/3973\n",
            "Loss: 4.9351\n",
            "Accuracy: 0.2317\n",
            "Total words: 229644\n",
            "Correct words: 53217\n"
          ]
        },
        {
          "metadata": {
            "tags": null
          },
          "name": "stderr",
          "output_type": "stream",
          "text": [
            "Epoch 1/10:  15%|█▌        | 600/3973 [07:44<27:23,  2.05it/s, loss=4.8986, acc=0.2354]"
          ]
        },
        {
          "metadata": {
            "tags": null
          },
          "name": "stdout",
          "output_type": "stream",
          "text": [
            "\n",
            "Batch 600/3973\n",
            "Loss: 4.8986\n",
            "Accuracy: 0.2354\n",
            "Total words: 275910\n",
            "Correct words: 64941\n"
          ]
        },
        {
          "metadata": {
            "tags": null
          },
          "name": "stderr",
          "output_type": "stream",
          "text": [
            "Epoch 1/10:  18%|█▊        | 700/3973 [08:59<41:49,  1.30it/s, loss=4.8675, acc=0.2380]"
          ]
        },
        {
          "metadata": {
            "tags": null
          },
          "name": "stdout",
          "output_type": "stream",
          "text": [
            "\n",
            "Batch 700/3973\n",
            "Loss: 4.8675\n",
            "Accuracy: 0.2380\n",
            "Total words: 322015\n",
            "Correct words: 76648\n"
          ]
        },
        {
          "output_type": "stream",
          "name": "stderr",
          "text": [
            "Epoch 1/10:  20%|██        | 800/3973 [10:15<27:34,  1.92it/s, loss=4.8451, acc=0.2395]"
          ]
        },
        {
          "output_type": "stream",
          "name": "stdout",
          "text": [
            "\n",
            "Batch 800/3973\n",
            "Loss: 4.8451\n",
            "Accuracy: 0.2395\n",
            "Total words: 367967\n",
            "Correct words: 88141\n"
          ]
        },
        {
          "output_type": "stream",
          "name": "stderr",
          "text": [
            "Epoch 1/10:  23%|██▎       | 900/3973 [11:32<26:23,  1.94it/s, loss=4.8219, acc=0.2413]"
          ]
        },
        {
          "output_type": "stream",
          "name": "stdout",
          "text": [
            "\n",
            "Batch 900/3973\n",
            "Loss: 4.8219\n",
            "Accuracy: 0.2413\n",
            "Total words: 413454\n",
            "Correct words: 99767\n"
          ]
        },
        {
          "output_type": "stream",
          "name": "stderr",
          "text": [
            "Epoch 1/10:  25%|██▌       | 1000/3973 [12:53<28:43,  1.72it/s, loss=4.8011, acc=0.2429]"
          ]
        },
        {
          "output_type": "stream",
          "name": "stdout",
          "text": [
            "\n",
            "Batch 1000/3973\n",
            "Loss: 4.8011\n",
            "Accuracy: 0.2429\n",
            "Total words: 459524\n",
            "Correct words: 111624\n"
          ]
        },
        {
          "output_type": "stream",
          "name": "stderr",
          "text": [
            "Epoch 1/10:  28%|██▊       | 1100/3973 [14:12<1:29:17,  1.86s/it, loss=4.7848, acc=0.2441]"
          ]
        },
        {
          "output_type": "stream",
          "name": "stdout",
          "text": [
            "\n",
            "Batch 1100/3973\n",
            "Loss: 4.7848\n",
            "Accuracy: 0.2441\n",
            "Total words: 505835\n",
            "Correct words: 123472\n"
          ]
        },
        {
          "output_type": "stream",
          "name": "stderr",
          "text": [
            "Epoch 1/10:  30%|███       | 1200/3973 [15:28<22:35,  2.05it/s, loss=4.7659, acc=0.2455]"
          ]
        },
        {
          "output_type": "stream",
          "name": "stdout",
          "text": [
            "\n",
            "Batch 1200/3973\n",
            "Loss: 4.7659\n",
            "Accuracy: 0.2455\n",
            "Total words: 551839\n",
            "Correct words: 135495\n"
          ]
        },
        {
          "output_type": "stream",
          "name": "stderr",
          "text": [
            "Epoch 1/10:  33%|███▎      | 1300/3973 [16:53<1:12:05,  1.62s/it, loss=4.7510, acc=0.2464]"
          ]
        },
        {
          "output_type": "stream",
          "name": "stdout",
          "text": [
            "\n",
            "Batch 1300/3973\n",
            "Loss: 4.7510\n",
            "Accuracy: 0.2464\n",
            "Total words: 598169\n",
            "Correct words: 147375\n"
          ]
        },
        {
          "output_type": "stream",
          "name": "stderr",
          "text": [
            "Epoch 1/10:  35%|███▌      | 1400/3973 [18:10<25:15,  1.70it/s, loss=4.7366, acc=0.2474]"
          ]
        },
        {
          "output_type": "stream",
          "name": "stdout",
          "text": [
            "\n",
            "Batch 1400/3973\n",
            "Loss: 4.7366\n",
            "Accuracy: 0.2474\n",
            "Total words: 643759\n",
            "Correct words: 159274\n"
          ]
        },
        {
          "output_type": "stream",
          "name": "stderr",
          "text": [
            "Epoch 1/10:  38%|███▊      | 1500/3973 [19:23<1:12:51,  1.77s/it, loss=4.7250, acc=0.2483]"
          ]
        },
        {
          "output_type": "stream",
          "name": "stdout",
          "text": [
            "\n",
            "Batch 1500/3973\n",
            "Loss: 4.7250\n",
            "Accuracy: 0.2483\n",
            "Total words: 689945\n",
            "Correct words: 171298\n"
          ]
        },
        {
          "output_type": "stream",
          "name": "stderr",
          "text": [
            "Epoch 1/10:  40%|████      | 1600/3973 [20:38<22:01,  1.80it/s, loss=4.7140, acc=0.2489]"
          ]
        },
        {
          "output_type": "stream",
          "name": "stdout",
          "text": [
            "\n",
            "Batch 1600/3973\n",
            "Loss: 4.7140\n",
            "Accuracy: 0.2489\n",
            "Total words: 736444\n",
            "Correct words: 183288\n"
          ]
        },
        {
          "output_type": "stream",
          "name": "stderr",
          "text": [
            "Epoch 1/10:  43%|████▎     | 1700/3973 [21:54<19:45,  1.92it/s, loss=4.7012, acc=0.2500]"
          ]
        },
        {
          "output_type": "stream",
          "name": "stdout",
          "text": [
            "\n",
            "Batch 1700/3973\n",
            "Loss: 4.7012\n",
            "Accuracy: 0.2500\n",
            "Total words: 782462\n",
            "Correct words: 195617\n"
          ]
        },
        {
          "output_type": "stream",
          "name": "stderr",
          "text": [
            "Epoch 1/10:  45%|████▌     | 1800/3973 [23:10<18:02,  2.01it/s, loss=4.6880, acc=0.2511]"
          ]
        },
        {
          "output_type": "stream",
          "name": "stdout",
          "text": [
            "\n",
            "Batch 1800/3973\n",
            "Loss: 4.6880\n",
            "Accuracy: 0.2511\n",
            "Total words: 829021\n",
            "Correct words: 208129\n"
          ]
        },
        {
          "output_type": "stream",
          "name": "stderr",
          "text": [
            "Epoch 1/10:  48%|████▊     | 1900/3973 [24:26<17:10,  2.01it/s, loss=4.6759, acc=0.2519]"
          ]
        },
        {
          "output_type": "stream",
          "name": "stdout",
          "text": [
            "\n",
            "Batch 1900/3973\n",
            "Loss: 4.6759\n",
            "Accuracy: 0.2519\n",
            "Total words: 875398\n",
            "Correct words: 220523\n"
          ]
        },
        {
          "output_type": "stream",
          "name": "stderr",
          "text": [
            "Epoch 1/10:  50%|█████     | 2000/3973 [25:41<15:32,  2.12it/s, loss=4.6636, acc=0.2529]"
          ]
        },
        {
          "output_type": "stream",
          "name": "stdout",
          "text": [
            "\n",
            "Batch 2000/3973\n",
            "Loss: 4.6636\n",
            "Accuracy: 0.2529\n",
            "Total words: 921113\n",
            "Correct words: 232967\n"
          ]
        },
        {
          "output_type": "stream",
          "name": "stderr",
          "text": [
            "Epoch 1/10:  53%|█████▎    | 2100/3973 [27:06<36:40,  1.17s/it, loss=4.6534, acc=0.2537]"
          ]
        },
        {
          "output_type": "stream",
          "name": "stdout",
          "text": [
            "\n",
            "Batch 2100/3973\n",
            "Loss: 4.6534\n",
            "Accuracy: 0.2537\n",
            "Total words: 967521\n",
            "Correct words: 245446\n"
          ]
        },
        {
          "output_type": "stream",
          "name": "stderr",
          "text": [
            "Epoch 1/10:  55%|█████▌    | 2200/3973 [28:22<16:07,  1.83it/s, loss=4.6437, acc=0.2544]"
          ]
        },
        {
          "output_type": "stream",
          "name": "stdout",
          "text": [
            "\n",
            "Batch 2200/3973\n",
            "Loss: 4.6437\n",
            "Accuracy: 0.2544\n",
            "Total words: 1013235\n",
            "Correct words: 257773\n"
          ]
        },
        {
          "output_type": "stream",
          "name": "stderr",
          "text": [
            "Epoch 1/10:  58%|█████▊    | 2300/3973 [29:41<16:05,  1.73it/s, loss=4.6342, acc=0.2551]"
          ]
        },
        {
          "output_type": "stream",
          "name": "stdout",
          "text": [
            "\n",
            "Batch 2300/3973\n",
            "Loss: 4.6342\n",
            "Accuracy: 0.2551\n",
            "Total words: 1059015\n",
            "Correct words: 270164\n"
          ]
        },
        {
          "output_type": "stream",
          "name": "stderr",
          "text": [
            "Epoch 1/10:  60%|██████    | 2400/3973 [30:57<13:27,  1.95it/s, loss=4.6252, acc=0.2559]"
          ]
        },
        {
          "output_type": "stream",
          "name": "stdout",
          "text": [
            "\n",
            "Batch 2400/3973\n",
            "Loss: 4.6252\n",
            "Accuracy: 0.2559\n",
            "Total words: 1104580\n",
            "Correct words: 282694\n"
          ]
        },
        {
          "output_type": "stream",
          "name": "stderr",
          "text": [
            "Epoch 1/10:  63%|██████▎   | 2500/3973 [32:23<31:25,  1.28s/it, loss=4.6178, acc=0.2563]"
          ]
        },
        {
          "output_type": "stream",
          "name": "stdout",
          "text": [
            "\n",
            "Batch 2500/3973\n",
            "Loss: 4.6178\n",
            "Accuracy: 0.2563\n",
            "Total words: 1150538\n",
            "Correct words: 294888\n"
          ]
        },
        {
          "output_type": "stream",
          "name": "stderr",
          "text": [
            "Epoch 1/10:  65%|██████▌   | 2600/3973 [33:40<11:40,  1.96it/s, loss=4.6090, acc=0.2569]"
          ]
        },
        {
          "output_type": "stream",
          "name": "stdout",
          "text": [
            "\n",
            "Batch 2600/3973\n",
            "Loss: 4.6090\n",
            "Accuracy: 0.2569\n",
            "Total words: 1196235\n",
            "Correct words: 307263\n"
          ]
        },
        {
          "output_type": "stream",
          "name": "stderr",
          "text": [
            "Epoch 1/10:  68%|██████▊   | 2700/3973 [34:58<11:35,  1.83it/s, loss=4.6024, acc=0.2573]"
          ]
        },
        {
          "output_type": "stream",
          "name": "stdout",
          "text": [
            "\n",
            "Batch 2700/3973\n",
            "Loss: 4.6024\n",
            "Accuracy: 0.2573\n",
            "Total words: 1242729\n",
            "Correct words: 319711\n"
          ]
        },
        {
          "output_type": "stream",
          "name": "stderr",
          "text": [
            "Epoch 1/10:  70%|███████   | 2800/3973 [36:16<10:03,  1.94it/s, loss=4.5957, acc=0.2576]"
          ]
        },
        {
          "output_type": "stream",
          "name": "stdout",
          "text": [
            "\n",
            "Batch 2800/3973\n",
            "Loss: 4.5957\n",
            "Accuracy: 0.2576\n",
            "Total words: 1289132\n",
            "Correct words: 332077\n"
          ]
        },
        {
          "output_type": "stream",
          "name": "stderr",
          "text": [
            "Epoch 1/10:  73%|███████▎  | 2900/3973 [37:41<11:30,  1.55it/s, loss=4.5878, acc=0.2581]"
          ]
        },
        {
          "output_type": "stream",
          "name": "stdout",
          "text": [
            "\n",
            "Batch 2900/3973\n",
            "Loss: 4.5878\n",
            "Accuracy: 0.2581\n",
            "Total words: 1334860\n",
            "Correct words: 344554\n"
          ]
        },
        {
          "output_type": "stream",
          "name": "stderr",
          "text": [
            "Epoch 1/10:  76%|███████▌  | 3000/3973 [38:58<07:53,  2.06it/s, loss=4.5802, acc=0.2586]"
          ]
        },
        {
          "output_type": "stream",
          "name": "stdout",
          "text": [
            "\n",
            "Batch 3000/3973\n",
            "Loss: 4.5802\n",
            "Accuracy: 0.2586\n",
            "Total words: 1381100\n",
            "Correct words: 357160\n"
          ]
        },
        {
          "output_type": "stream",
          "name": "stderr",
          "text": [
            "Epoch 1/10:  78%|███████▊  | 3100/3973 [40:13<11:28,  1.27it/s, loss=4.5734, acc=0.2590]"
          ]
        },
        {
          "output_type": "stream",
          "name": "stdout",
          "text": [
            "\n",
            "Batch 3100/3973\n",
            "Loss: 4.5734\n",
            "Accuracy: 0.2590\n",
            "Total words: 1427224\n",
            "Correct words: 369721\n"
          ]
        },
        {
          "output_type": "stream",
          "name": "stderr",
          "text": [
            "Epoch 1/10:  81%|████████  | 3200/3973 [41:25<07:31,  1.71it/s, loss=4.5670, acc=0.2595]"
          ]
        },
        {
          "output_type": "stream",
          "name": "stdout",
          "text": [
            "\n",
            "Batch 3200/3973\n",
            "Loss: 4.5670\n",
            "Accuracy: 0.2595\n",
            "Total words: 1473316\n",
            "Correct words: 382299\n"
          ]
        },
        {
          "output_type": "stream",
          "name": "stderr",
          "text": [
            "Epoch 1/10:  83%|████████▎ | 3300/3973 [42:35<05:57,  1.88it/s, loss=4.5603, acc=0.2600]"
          ]
        },
        {
          "output_type": "stream",
          "name": "stdout",
          "text": [
            "\n",
            "Batch 3300/3973\n",
            "Loss: 4.5603\n",
            "Accuracy: 0.2600\n",
            "Total words: 1519228\n",
            "Correct words: 395018\n"
          ]
        },
        {
          "output_type": "stream",
          "name": "stderr",
          "text": [
            "Epoch 1/10:  86%|████████▌ | 3400/3973 [44:01<06:00,  1.59it/s, loss=4.5547, acc=0.2603]"
          ]
        },
        {
          "output_type": "stream",
          "name": "stdout",
          "text": [
            "\n",
            "Batch 3400/3973\n",
            "Loss: 4.5547\n",
            "Accuracy: 0.2603\n",
            "Total words: 1565633\n",
            "Correct words: 407568\n"
          ]
        },
        {
          "output_type": "stream",
          "name": "stderr",
          "text": [
            "Epoch 1/10:  88%|████████▊ | 3500/3973 [45:18<07:25,  1.06it/s, loss=4.5506, acc=0.2604]"
          ]
        },
        {
          "output_type": "stream",
          "name": "stdout",
          "text": [
            "\n",
            "Batch 3500/3973\n",
            "Loss: 4.5506\n",
            "Accuracy: 0.2604\n",
            "Total words: 1612167\n",
            "Correct words: 419852\n"
          ]
        },
        {
          "output_type": "stream",
          "name": "stderr",
          "text": [
            "Epoch 1/10:  91%|█████████ | 3600/3973 [46:37<03:12,  1.94it/s, loss=4.5450, acc=0.2607]"
          ]
        },
        {
          "output_type": "stream",
          "name": "stdout",
          "text": [
            "\n",
            "Batch 3600/3973\n",
            "Loss: 4.5450\n",
            "Accuracy: 0.2607\n",
            "Total words: 1657903\n",
            "Correct words: 432262\n"
          ]
        },
        {
          "output_type": "stream",
          "name": "stderr",
          "text": [
            "Epoch 1/10:  93%|█████████▎| 3700/3973 [47:55<02:25,  1.88it/s, loss=4.5389, acc=0.2611]"
          ]
        },
        {
          "output_type": "stream",
          "name": "stdout",
          "text": [
            "\n",
            "Batch 3700/3973\n",
            "Loss: 4.5389\n",
            "Accuracy: 0.2611\n",
            "Total words: 1703370\n",
            "Correct words: 444669\n"
          ]
        },
        {
          "output_type": "stream",
          "name": "stderr",
          "text": [
            "Epoch 1/10:  93%|█████████▎| 3703/3973 [48:02<09:10,  2.04s/it, loss=4.5388, acc=0.2610]"
          ]
        }
      ],
      "source": [
        "def main():\n",
        "    LEARNING_RATE = 0.001\n",
        "    # Initialize model\n",
        "    device = torch.device('cuda' if torch.cuda.is_available() else 'cpu')\n",
        "    print(f\"Using device: {device}\")\n",
        "    model = ImageCaptioningModel(\n",
        "        input_size=768,  # ViT base size\n",
        "        hidden_size=HIDDEN_SIZE,\n",
        "        vocab_size=len(word2idx),\n",
        "        embed_size=EMBED_SIZE,\n",
        "        num_layers=2,\n",
        "        dropout_p=0.3\n",
        "    ).to(device)\n",
        "\n",
        "    criterion = nn.CrossEntropyLoss(ignore_index=0)  # Ignore padding index\n",
        "    optimizer = optim.Adam(model.parameters(), lr=LEARNING_RATE)\n",
        "\n",
        "    # Training loop\n",
        "    print(\"Starting training...\")\n",
        "    for epoch in range(EPOCHS):\n",
        "        loss, accuracy = train_model(\n",
        "        model=model,\n",
        "        train_loader=train_loader,\n",
        "        criterion=criterion,\n",
        "        optimizer=optimizer,\n",
        "        device=device,\n",
        "        epoch=epoch+1,\n",
        "        total_epochs=EPOCHS,\n",
        "        num_threads=16 # Adjust based on your system\n",
        "    )\n",
        "\n",
        "        print(f\"\\nEpoch {epoch + 1}/{EPOCHS}\")\n",
        "        print(f\"Average Loss: {loss:.4f}\")\n",
        "\n",
        "        # Save checkpoint\n",
        "        torch.save({\n",
        "            'epoch': epoch + 1,\n",
        "            'model_state_dict': model.state_dict(),\n",
        "            'optimizer_state_dict': optimizer.state_dict(),\n",
        "            'loss': loss,\n",
        "            'accuracy': accuracy,\n",
        "            'word2idx': word2idx,\n",
        "            'idx2word': idx2word\n",
        "        }, f'improved_model_epoch_{epoch+1}.pth')\n",
        "\n",
        "if __name__ == \"__main__\":\n",
        "    try:\n",
        "        main()\n",
        "    except Exception as e:\n",
        "        print(f\"Main error: {str(e)}\")\n",
        "        raise"
      ]
    },
    {
      "cell_type": "code",
      "source": [
        "def generate_caption(image_path, model_path=\"best_model.pth\", max_length=50):\n",
        "    \"\"\"\n",
        "    Generate a caption for a single image using the saved model\n",
        "    \"\"\"\n",
        "    # Load model checkpoint\n",
        "    checkpoint = torch.load(model_path, map_location='cpu')\n",
        "    word2idx = checkpoint['word2idx']\n",
        "    idx2word = checkpoint['idx2word']\n",
        "\n",
        "    # Initialize model and load weights\n",
        "    model = ImageCaptioningModel(\n",
        "        input_size=768,  # ViT base size\n",
        "        hidden_size=512,\n",
        "        vocab_size=len(word2idx)\n",
        "    )\n",
        "    model.load_state_dict(checkpoint['model_state_dict'])\n",
        "    model.eval()\n",
        "\n",
        "    # Load and process image\n",
        "    feature_extractor = ViTFeatureExtractor.from_pretrained('google/vit-base-patch16-224')\n",
        "    vit_model = ViTModel.from_pretrained('google/vit-base-patch16-224')\n",
        "\n",
        "    # Extract features\n",
        "    image = Image.open(image_path).convert('RGB')\n",
        "\n",
        "    with torch.no_grad():\n",
        "        # Get ViT features\n",
        "        inputs = feature_extractor(images=image, return_tensors=\"pt\")\n",
        "        outputs = vit_model(**inputs)\n",
        "        image_features = outputs.last_hidden_state[:, 0, :]  # [1, 768]\n",
        "        print(f\"Image Embedding shape:\",{image_features.shape})\n",
        "    # Generate caption\n",
        "    with torch.no_grad():\n",
        "        # Initialize with start token\n",
        "        current_token = torch.tensor([[word2idx['<START>']]])\n",
        "        caption = []\n",
        "\n",
        "        # Generate words until max length or end token\n",
        "        for _ in range(max_length):\n",
        "            # Generate next word\n",
        "            output = model(image_features, current_token)\n",
        "            next_word_idx = output[0, -1].argmax().item()\n",
        "\n",
        "            # Convert to word\n",
        "            word = idx2word[next_word_idx]\n",
        "\n",
        "            # Stop if end token or pad\n",
        "            if word in ['<END>', '<PAD>']:\n",
        "                break\n",
        "\n",
        "            caption.append(word)\n",
        "\n",
        "            # Update current token\n",
        "            current_token = torch.cat([current_token, torch.tensor([[next_word_idx]])], dim=1)\n",
        "\n",
        "    return ' '.join(caption)\n",
        "\n",
        "# Example usage:\n",
        "if __name__ == \"__main__\":\n",
        "    # Test with a sample image\n",
        "    image_path = \"/content/8192398089.jpg\"  # Replace with your image path\n",
        "    caption = generate_caption(image_path)\n",
        "    print(f\"\\nGenerated caption: {caption}\")\n",
        "\n",
        "    # # Test with multiple images\n",
        "    # test_images = [\n",
        "    #     \"flickr30k/images/image1.jpg\",\n",
        "    #     \"flickr30k/images/image2.jpg\",\n",
        "    #     \"flickr30k/images/image3.jpg\"\n",
        "    # ]\n",
        "\n",
        "    # print(\"\\nGenerating captions for multiple images:\")\n",
        "    # for img_path in test_images:\n",
        "    #     try:\n",
        "    #         caption = generate_caption(img_path)\n",
        "    #         print(f\"\\nImage: {img_path}\")\n",
        "    #         print(f\"Caption: {caption}\")\n",
        "    #     except Exception as e:\n",
        "    #         print(f\"Error processing {img_path}: {str(e)}\")"
      ],
      "metadata": {
        "colab": {
          "base_uri": "https://localhost:8080/"
        },
        "id": "kGzKQTW99CBr",
        "outputId": "55f07684-78f9-423f-910c-5f6b6ebcf583"
      },
      "execution_count": null,
      "outputs": [
        {
          "output_type": "stream",
          "name": "stderr",
          "text": [
            "<ipython-input-28-38f54335be68>:6: FutureWarning: You are using `torch.load` with `weights_only=False` (the current default value), which uses the default pickle module implicitly. It is possible to construct malicious pickle data which will execute arbitrary code during unpickling (See https://github.com/pytorch/pytorch/blob/main/SECURITY.md#untrusted-models for more details). In a future release, the default value for `weights_only` will be flipped to `True`. This limits the functions that could be executed during unpickling. Arbitrary objects will no longer be allowed to be loaded via this mode unless they are explicitly allowlisted by the user via `torch.serialization.add_safe_globals`. We recommend you start setting `weights_only=True` for any use case where you don't have full control of the loaded file. Please open an issue on GitHub for any issues related to this experimental feature.\n",
            "  checkpoint = torch.load(model_path, map_location='cpu')\n",
            "/usr/local/lib/python3.10/dist-packages/transformers/models/vit/feature_extraction_vit.py:28: FutureWarning: The class ViTFeatureExtractor is deprecated and will be removed in version 5 of Transformers. Please use ViTImageProcessor instead.\n",
            "  warnings.warn(\n",
            "Some weights of ViTModel were not initialized from the model checkpoint at google/vit-base-patch16-224 and are newly initialized: ['vit.pooler.dense.bias', 'vit.pooler.dense.weight']\n",
            "You should probably TRAIN this model on a down-stream task to be able to use it for predictions and inference.\n"
          ]
        },
        {
          "output_type": "stream",
          "name": "stdout",
          "text": [
            "Image Embedding shape: {torch.Size([1, 768])}\n",
            "\n",
            "Generated caption: women black in and outfits in dance\n"
          ]
        }
      ]
    },
    {
      "cell_type": "code",
      "source": [
        "from nltk.translate.bleu_score import sentence_bleu, corpus_bleu, SmoothingFunction\n",
        "from nltk.tokenize import word_tokenize\n",
        "def load_model_and_tokenizers(model_path):\n",
        "    \"\"\"Load the trained model and tokenizers\"\"\"\n",
        "    checkpoint = torch.load(model_path, map_location='cpu')\n",
        "    word2idx = checkpoint['word2idx']\n",
        "    idx2word = checkpoint['idx2word']\n",
        "\n",
        "    # Initialize model\n",
        "    model = ImageCaptioningModel(\n",
        "        input_size=768,  # ViT base size\n",
        "        hidden_size=512,\n",
        "        vocab_size=len(word2idx)\n",
        "    )\n",
        "\n",
        "    model.load_state_dict(checkpoint['model_state_dict'])\n",
        "    return model, word2idx, idx2word\n",
        "\n",
        "def generate_caption(model, image_features, word2idx, idx2word, max_length=50):\n",
        "    \"\"\"Generate a caption for given image features\"\"\"\n",
        "    model.eval()\n",
        "    with torch.no_grad():\n",
        "        # Initialize with start token\n",
        "        decoder_input = torch.tensor([[word2idx['<START>']]])\n",
        "\n",
        "        # Initialize hidden states\n",
        "        h = torch.zeros(model.num_layers, 1, model.hidden_size)\n",
        "        c = torch.zeros(model.num_layers, 1, model.hidden_size)\n",
        "        hidden = (h, c)\n",
        "\n",
        "        caption = []\n",
        "\n",
        "        for _ in range(max_length):\n",
        "            # Forward pass through model\n",
        "            output, hidden = model(image_features.unsqueeze(0), decoder_input, hidden)\n",
        "\n",
        "            # Get predicted word\n",
        "            pred_idx = output[0, -1].argmax().item()\n",
        "            pred_word = idx2word[pred_idx]\n",
        "\n",
        "            # Break if end token or padding\n",
        "            if pred_word in ['<END>', '<PAD>']:\n",
        "                break\n",
        "\n",
        "            caption.append(pred_word)\n",
        "            decoder_input = torch.tensor([[pred_idx]])\n",
        "\n",
        "    return caption\n",
        "\n",
        "def calculate_bleu_scores(references, hypothesis):\n",
        "    \"\"\"Calculate BLEU-1,2,3,4 scores\"\"\"\n",
        "    smoothing = SmoothingFunction().method1\n",
        "\n",
        "    # Ensure references is a list of lists\n",
        "    if not isinstance(references[0], list):\n",
        "        references = [references]\n",
        "\n",
        "    # Calculate individual BLEU scores\n",
        "    bleu1 = sentence_bleu(references, hypothesis, weights=(1, 0, 0, 0), smoothing_function=smoothing)\n",
        "    bleu2 = sentence_bleu(references, hypothesis, weights=(0.5, 0.5, 0, 0), smoothing_function=smoothing)\n",
        "    bleu3 = sentence_bleu(references, hypothesis, weights=(0.33, 0.33, 0.33, 0), smoothing_function=smoothing)\n",
        "    bleu4 = sentence_bleu(references, hypothesis, weights=(0.25, 0.25, 0.25, 0.25), smoothing_function=smoothing)\n",
        "\n",
        "    return {\n",
        "        'bleu1': bleu1,\n",
        "        'bleu2': bleu2,\n",
        "        'bleu3': bleu3,\n",
        "        'bleu4': bleu4\n",
        "    }\n",
        "\n",
        "def evaluate_model(model_path, test_dataloader, device):\n",
        "    \"\"\"Evaluate model on test set\"\"\"\n",
        "    # Load model and tokenizers\n",
        "    model, word2idx, idx2word = load_model_and_tokenizers(model_path)\n",
        "    model = model.to(device)\n",
        "    model.eval()\n",
        "\n",
        "    # Initialize feature extractor\n",
        "    feature_extractor = ViTFeatureExtractor.from_pretrained('google/vit-base-patch16-224')\n",
        "    vit_model = ViTModel.from_pretrained('google/vit-base-patch16-224').to(device)\n",
        "\n",
        "    # Initialize metrics\n",
        "    all_bleu_scores = []\n",
        "    all_references = []\n",
        "    all_hypotheses = []\n",
        "\n",
        "    print(\"Generating captions and calculating BLEU scores...\")\n",
        "    for images, captions in tqdm(test_dataloader):\n",
        "        try:\n",
        "            images = images.to(device)\n",
        "\n",
        "            # Generate captions\n",
        "            generated_caption = generate_caption(model, images, word2idx, idx2word)\n",
        "\n",
        "            # Get reference captions (remove special tokens)\n",
        "            reference_captions = []\n",
        "            for cap in captions:\n",
        "                tokens = [idx2word[idx.item()] for idx in cap]\n",
        "                # Remove special tokens\n",
        "                tokens = [token for token in tokens if token not in ['<START>', '<END>', '<PAD>', '<UNK>']]\n",
        "                reference_captions.append(tokens)\n",
        "\n",
        "            # Calculate BLEU scores\n",
        "            scores = calculate_bleu_scores(reference_captions, generated_caption)\n",
        "            all_bleu_scores.append(scores)\n",
        "\n",
        "            # Store for corpus BLEU calculation\n",
        "            all_references.append(reference_captions)\n",
        "            all_hypotheses.append(generated_caption)\n",
        "\n",
        "        except Exception as e:\n",
        "            print(f\"Error processing batch: {str(e)}\")\n",
        "            continue\n",
        "\n",
        "    # Calculate average scores\n",
        "    avg_scores = {\n",
        "        'bleu1': np.mean([s['bleu1'] for s in all_bleu_scores]),\n",
        "        'bleu2': np.mean([s['bleu2'] for s in all_bleu_scores]),\n",
        "        'bleu3': np.mean([s['bleu3'] for s in all_bleu_scores]),\n",
        "        'bleu4': np.mean([s['bleu4'] for s in all_bleu_scores])\n",
        "    }\n",
        "\n",
        "    # Calculate corpus BLEU\n",
        "    corpus_bleu1 = corpus_bleu(all_references, all_hypotheses, weights=(1, 0, 0, 0))\n",
        "    corpus_bleu4 = corpus_bleu(all_references, all_hypotheses, weights=(0.25, 0.25, 0.25, 0.25))\n",
        "\n",
        "    # Print results\n",
        "    print(\"\\nEvaluation Results:\")\n",
        "    print(\"\\nAverage BLEU Scores:\")\n",
        "    print(f\"BLEU-1: {avg_scores['bleu1']:.4f}\")\n",
        "    print(f\"BLEU-2: {avg_scores['bleu2']:.4f}\")\n",
        "    print(f\"BLEU-3: {avg_scores['bleu3']:.4f}\")\n",
        "    print(f\"BLEU-4: {avg_scores['bleu4']:.4f}\")\n",
        "\n",
        "    print(\"\\nCorpus BLEU Scores:\")\n",
        "    print(f\"Corpus BLEU-1: {corpus_bleu1:.4f}\")\n",
        "    print(f\"Corpus BLEU-4: {corpus_bleu4:.4f}\")\n",
        "\n",
        "    # Save some example predictions\n",
        "    print(\"\\nSample Predictions:\")\n",
        "    for i in range(min(5, len(all_hypotheses))):\n",
        "        print(f\"\\nImage {i+1}:\")\n",
        "        print(f\"Generated: {' '.join(all_hypotheses[i])}\")\n",
        "        print(f\"Reference: {' '.join(all_references[i][0])}\")\n",
        "\n",
        "    return avg_scores, {'corpus_bleu1': corpus_bleu1, 'corpus_bleu4': corpus_bleu4}\n",
        "\n",
        "def evaluate_single_image(model, image_path, word2idx, idx2word, feature_extractor, vit_model, device):\n",
        "    \"\"\"Generate caption for a single image\"\"\"\n",
        "    model.eval()\n",
        "    with torch.no_grad():\n",
        "        # Load and process image\n",
        "        image = Image.open(image_path).convert('RGB')\n",
        "        inputs = feature_extractor(images=image, return_tensors=\"pt\")\n",
        "        inputs = {k: v.to(device) for k, v in inputs.items()}\n",
        "\n",
        "        # Extract features\n",
        "        features = vit_model(**inputs).last_hidden_state[:, 0, :]\n",
        "\n",
        "        # Generate caption\n",
        "        caption = generate_caption(model, features, word2idx, idx2word)\n",
        "\n",
        "        return ' '.join(caption)\n",
        "\n",
        "if __name__ == \"__main__\":\n",
        "    # Parameters\n",
        "    MODEL_PATH = 'best_model.pth'  # Path to your saved model\n",
        "    BATCH_SIZE = 32\n",
        "    device = torch.device('cuda' if torch.cuda.is_available() else 'cpu')\n",
        "\n",
        "    # Load test dataset\n",
        "    test_loader = DataLoader(\n",
        "        test_dataset,\n",
        "        batch_size=BATCH_SIZE,\n",
        "        shuffle=False,\n",
        "        num_workers=4\n",
        "    )\n",
        "\n",
        "    # Evaluate model\n",
        "    avg_scores, corpus_scores = evaluate_model(MODEL_PATH, test_loader, device)\n",
        "\n",
        "    # Test on single images\n",
        "    model, word2idx, idx2word = load_model_and_tokenizers(MODEL_PATH)\n",
        "    model = model.to(device)\n",
        "    feature_extractor = ViTFeatureExtractor.from_pretrained('google/vit-base-patch16-224')\n",
        "    vit_model = ViTModel.from_pretrained('google/vit-base-patch16-224').to(device)\n",
        "\n",
        "    # Test on some sample images\n",
        "    test_images = [\n",
        "        \"/content/8192398089.jpg\",\n",
        "    ]\n",
        "\n",
        "    print(\"\\nTesting individual images:\")\n",
        "    for img_path in test_images:\n",
        "        try:\n",
        "            caption = evaluate_single_image(\n",
        "                model, img_path, word2idx, idx2word,\n",
        "                feature_extractor, vit_model, device\n",
        "            )\n",
        "            print(f\"\\nImage: {img_path}\")\n",
        "            print(f\"Generated Caption: {caption}\")\n",
        "        except Exception as e:\n",
        "            print(f\"Error processing {img_path}: {str(e)}\")"
      ],
      "metadata": {
        "colab": {
          "base_uri": "https://localhost:8080/",
          "height": 446
        },
        "id": "SCqmtIpd_vke",
        "outputId": "b0718ef5-e483-4714-b50f-d08841ceb3f9"
      },
      "execution_count": null,
      "outputs": [
        {
          "output_type": "stream",
          "name": "stderr",
          "text": [
            "/usr/local/lib/python3.10/dist-packages/torch/utils/data/dataloader.py:617: UserWarning: This DataLoader will create 4 worker processes in total. Our suggested max number of worker in current system is 2, which is smaller than what this DataLoader is going to create. Please be aware that excessive worker creation might get DataLoader running slow or even freeze, lower the worker number to avoid potential slowness/freeze if necessary.\n",
            "  warnings.warn(\n",
            "<ipython-input-44-5302034d90fe>:5: FutureWarning: You are using `torch.load` with `weights_only=False` (the current default value), which uses the default pickle module implicitly. It is possible to construct malicious pickle data which will execute arbitrary code during unpickling (See https://github.com/pytorch/pytorch/blob/main/SECURITY.md#untrusted-models for more details). In a future release, the default value for `weights_only` will be flipped to `True`. This limits the functions that could be executed during unpickling. Arbitrary objects will no longer be allowed to be loaded via this mode unless they are explicitly allowlisted by the user via `torch.serialization.add_safe_globals`. We recommend you start setting `weights_only=True` for any use case where you don't have full control of the loaded file. Please open an issue on GitHub for any issues related to this experimental feature.\n",
            "  checkpoint = torch.load(model_path, map_location='cpu')\n"
          ]
        },
        {
          "output_type": "error",
          "ename": "NameError",
          "evalue": "name 'EncoderDecoder' is not defined",
          "traceback": [
            "\u001b[0;31m---------------------------------------------------------------------------\u001b[0m",
            "\u001b[0;31mNameError\u001b[0m                                 Traceback (most recent call last)",
            "\u001b[0;32m<ipython-input-44-5302034d90fe>\u001b[0m in \u001b[0;36m<cell line: 168>\u001b[0;34m()\u001b[0m\n\u001b[1;32m    181\u001b[0m \u001b[0;34m\u001b[0m\u001b[0m\n\u001b[1;32m    182\u001b[0m     \u001b[0;31m# Evaluate model\u001b[0m\u001b[0;34m\u001b[0m\u001b[0;34m\u001b[0m\u001b[0m\n\u001b[0;32m--> 183\u001b[0;31m     \u001b[0mavg_scores\u001b[0m\u001b[0;34m,\u001b[0m \u001b[0mcorpus_scores\u001b[0m \u001b[0;34m=\u001b[0m \u001b[0mevaluate_model\u001b[0m\u001b[0;34m(\u001b[0m\u001b[0mMODEL_PATH\u001b[0m\u001b[0;34m,\u001b[0m \u001b[0mtest_loader\u001b[0m\u001b[0;34m,\u001b[0m \u001b[0mdevice\u001b[0m\u001b[0;34m)\u001b[0m\u001b[0;34m\u001b[0m\u001b[0;34m\u001b[0m\u001b[0m\n\u001b[0m\u001b[1;32m    184\u001b[0m \u001b[0;34m\u001b[0m\u001b[0m\n\u001b[1;32m    185\u001b[0m     \u001b[0;31m# Test on single images\u001b[0m\u001b[0;34m\u001b[0m\u001b[0;34m\u001b[0m\u001b[0m\n",
            "\u001b[0;32m<ipython-input-44-5302034d90fe>\u001b[0m in \u001b[0;36mevaluate_model\u001b[0;34m(model_path, test_dataloader, device)\u001b[0m\n\u001b[1;32m     75\u001b[0m     \u001b[0;34m\"\"\"Evaluate model on test set\"\"\"\u001b[0m\u001b[0;34m\u001b[0m\u001b[0;34m\u001b[0m\u001b[0m\n\u001b[1;32m     76\u001b[0m     \u001b[0;31m# Load model and tokenizers\u001b[0m\u001b[0;34m\u001b[0m\u001b[0;34m\u001b[0m\u001b[0m\n\u001b[0;32m---> 77\u001b[0;31m     \u001b[0mmodel\u001b[0m\u001b[0;34m,\u001b[0m \u001b[0mword2idx\u001b[0m\u001b[0;34m,\u001b[0m \u001b[0midx2word\u001b[0m \u001b[0;34m=\u001b[0m \u001b[0mload_model_and_tokenizers\u001b[0m\u001b[0;34m(\u001b[0m\u001b[0mmodel_path\u001b[0m\u001b[0;34m)\u001b[0m\u001b[0;34m\u001b[0m\u001b[0;34m\u001b[0m\u001b[0m\n\u001b[0m\u001b[1;32m     78\u001b[0m     \u001b[0mmodel\u001b[0m \u001b[0;34m=\u001b[0m \u001b[0mmodel\u001b[0m\u001b[0;34m.\u001b[0m\u001b[0mto\u001b[0m\u001b[0;34m(\u001b[0m\u001b[0mdevice\u001b[0m\u001b[0;34m)\u001b[0m\u001b[0;34m\u001b[0m\u001b[0;34m\u001b[0m\u001b[0m\n\u001b[1;32m     79\u001b[0m     \u001b[0mmodel\u001b[0m\u001b[0;34m.\u001b[0m\u001b[0meval\u001b[0m\u001b[0;34m(\u001b[0m\u001b[0;34m)\u001b[0m\u001b[0;34m\u001b[0m\u001b[0;34m\u001b[0m\u001b[0m\n",
            "\u001b[0;32m<ipython-input-44-5302034d90fe>\u001b[0m in \u001b[0;36mload_model_and_tokenizers\u001b[0;34m(model_path)\u001b[0m\n\u001b[1;32m      8\u001b[0m \u001b[0;34m\u001b[0m\u001b[0m\n\u001b[1;32m      9\u001b[0m     \u001b[0;31m# Initialize model\u001b[0m\u001b[0;34m\u001b[0m\u001b[0;34m\u001b[0m\u001b[0m\n\u001b[0;32m---> 10\u001b[0;31m     model = EncoderDecoder(\n\u001b[0m\u001b[1;32m     11\u001b[0m         \u001b[0minput_size\u001b[0m\u001b[0;34m=\u001b[0m\u001b[0;36m768\u001b[0m\u001b[0;34m,\u001b[0m  \u001b[0;31m# ViT base size\u001b[0m\u001b[0;34m\u001b[0m\u001b[0;34m\u001b[0m\u001b[0m\n\u001b[1;32m     12\u001b[0m         \u001b[0mhidden_size\u001b[0m\u001b[0;34m=\u001b[0m\u001b[0;36m512\u001b[0m\u001b[0;34m,\u001b[0m\u001b[0;34m\u001b[0m\u001b[0;34m\u001b[0m\u001b[0m\n",
            "\u001b[0;31mNameError\u001b[0m: name 'EncoderDecoder' is not defined"
          ]
        }
      ]
    }
  ],
  "metadata": {
    "accelerator": "GPU",
    "colab": {
      "gpuType": "T4",
      "provenance": []
    },
    "kernelspec": {
      "display_name": "Python 3",
      "name": "python3"
    },
    "language_info": {
      "name": "python"
    }
  },
  "nbformat": 4,
  "nbformat_minor": 0
}